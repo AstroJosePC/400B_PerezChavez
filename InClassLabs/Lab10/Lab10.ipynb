{
 "cells": [
  {
   "cell_type": "markdown",
   "metadata": {},
   "source": [
    "# In Class Lab 10 : Template File\n",
    "\n",
    "Tutorial to make some interesting plots with widgets and the simulaton data ! \n",
    "\n",
    "\n",
    "Graphical widgets -- helpful functions to make a \"graphical user interface\", or GUI.\n",
    "\n",
    "These widgets need to be able to take input from the mouse and keyboard while the program is running. The most common way this is achieved is to have the code run in an infinite loop which is interrupted whenever input is provided. Some action is taken according to the input, and then the loop starts running again. This sort of algorithm is known as an *event loop* -- the code loops until a user event occurs.\n",
    "\n",
    "`matplotlib` provides a number of simple widgets which automatically create an event loop for us. One can create a widget instance, and then tell the widget what function to run when something happens to the widget. Such a function is called a *callback* -- the event loop calls back to the function we give it in order to take some action before starting up again."
   ]
  },
  {
   "cell_type": "code",
   "execution_count": 1,
   "metadata": {},
   "outputs": [],
   "source": [
    "# %matplotlib qt\n",
    "%matplotlib qt\n",
    "# enabling windows to pop up and be interactive\n",
    "\n",
    "import matplotlib.widgets as mw  # get access to the widgets\n",
    "\n",
    "# external modules\n",
    "import matplotlib\n",
    "import matplotlib.pyplot as plt\n",
    "import matplotlib.colors as colors\n",
    "from matplotlib.colors import LogNorm\n",
    "import numpy as np\n",
    "\n",
    "# Add path to other HW folders, and Data; Modular Design\n",
    "import sys\n",
    "sys.path.append(\"../../Homeworks\")\n",
    "\n",
    "# my modules \n",
    "from Homework2.ReadFile import Read\n",
    "from Homework4.CenterOfMass import CenterOfMass\n",
    "from Homework5.MassProfile import MassProfile\n",
    "\n",
    "# I took the code from Lab 7 for making contours and made it into a separate script\n",
    "# NOTE: it is more organized to keep functions in separate scripts \n",
    "# and then call them when you want to e.g. make plots or do some analysis. \n",
    "from contour import density_contour"
   ]
  },
  {
   "cell_type": "markdown",
   "metadata": {},
   "source": [
    "# Part A. Load in Data and make some simple plots\n",
    "\n",
    "To do this lab you will need to sftp into nimoy to get the highres data files for this lab:\n",
    "MW_000.txt and MW_400.txt\n",
    "If you don't have enough space on your computer you can use the low res files. \n"
   ]
  },
  {
   "cell_type": "code",
   "execution_count": 2,
   "metadata": {},
   "outputs": [],
   "source": [
    "# Load in disk particles centered on the MW\n",
    "# this is from the HighRes data files on nimoy so it might take a bit of time to load\n",
    "COM = CenterOfMass(\"../../../VLowResData/MW_VLowRes/MW_000.txt\",2)"
   ]
  },
  {
   "cell_type": "code",
   "execution_count": 3,
   "metadata": {},
   "outputs": [],
   "source": [
    "# Compute COM of the MW at the new position using disk particles\n",
    "COMP = COM.COM_P(0.1, 2)\n",
    "COMV = COM.COM_V(COMP[0],COMP[1],COMP[2])\n",
    "# Determine positions of disk particles relative to COM \n",
    "MW_Disk_x = COM.x - COMP[0].value \n",
    "MW_Disk_y = COM.y - COMP[1].value \n",
    "\n",
    "# Also store the disk velocity in the y direction\n",
    "MW_Disk_vy = COM.vy - COMV[1].value"
   ]
  },
  {
   "cell_type": "code",
   "execution_count": 4,
   "metadata": {},
   "outputs": [],
   "source": [
    "# Plot the disk of the MW with contours. \n",
    "# MW Disk Density \n",
    "fig, ax= plt.subplots(figsize=(8,6))\n",
    "\n",
    "## ADD HERE\n",
    "# plot the particle density for MW using plt.hist2d \n",
    "# can modify bin number (e.g. bin =100 for low res files)\n",
    "plt.hist2d(MW_Disk_x, MW_Disk_y, bins=200, norm=LogNorm(), cmap='magma')\n",
    "plt.colorbar(label='Number of disk particles per bin')\n",
    "\n",
    "# note: MW_Disk.x and MW_Disk.y won't be exactly at 0,0 because i was lazy and didn't take out the center of mass pos\n",
    "\n",
    "#### ADD HERE \n",
    "# call density_contour to add contours\n",
    "# density_contour(x pos, y pos, contour res, contour res, axis, colors=[colors,colors])\n",
    "density_contour(MW_Disk_x, MW_Disk_y, 80, 80, ax, colors=['white'])\n",
    "\n",
    "\n",
    "# Add axis labels\n",
    "plt.xlabel('x (kpc)', fontsize=22)\n",
    "plt.ylabel('y (kpc)', fontsize=22)\n",
    "\n",
    "#set axis limits\n",
    "plt.ylim(-30,30)\n",
    "plt.xlim(-30,30)\n",
    "\n",
    "#adjust tick label font size\n",
    "label_size = 22\n",
    "matplotlib.rcParams['xtick.labelsize'] = label_size \n",
    "matplotlib.rcParams['ytick.labelsize'] = label_size\n",
    "\n",
    "plt.tight_layout()"
   ]
  },
  {
   "cell_type": "markdown",
   "metadata": {},
   "source": [
    "# Part B  Zooming in on a plot with widgets\n",
    "\n",
    "We can catch characters typed on the keyboard -- *keypress events* -- by connecting a \"key_press_event\" to a callback function which takes an event as an argument.\n",
    "The event object contains a variety of data. The most useful being:\n",
    "\n",
    "    event.key       # the key which was pressed\n",
    "    event.xdata     # the mouse x-position when the key was pressed\n",
    "    event.ydata     # the mouse y-position when the key was pressed\n",
    "    \n",
    "Another useful widget allows the user to select a rectangular region in some axes object, and then calls a callback function with the bounding coordinates (the extent) of the region selected. This is the RectangleSelector widget.\n",
    "\n",
    "Note that click and release are not really that! Click contains the more-negative values and release the more positive values of both x and y coordinates."
   ]
  },
  {
   "cell_type": "code",
   "execution_count": 12,
   "metadata": {},
   "outputs": [],
   "source": [
    "def callbackRectangle( click, release ): # the events are click and release\n",
    "#     print( f\"button {click.button} pressed\" )\n",
    "#     print( f\"button {release.button} released\" )\n",
    "#     extent = [ click.xdata, release.xdata, click.ydata, release.ydata ]\n",
    "#     print( f\"box extent is {extent}\") \n",
    "    \n",
    "    ax.set_xlim(click.xdata, release.xdata)\n",
    "    ax.set_ylim(click.ydata, release.ydata)\n",
    "    \n",
    "    # ADD - in order to zoom in reset the axes to the clicked box size\n",
    "    plt.savefig('density_zoom.png')\n",
    "   "
   ]
  },
  {
   "cell_type": "code",
   "execution_count": 13,
   "metadata": {},
   "outputs": [],
   "source": [
    "# Save the file\n",
    "\n",
    "# add the ability to reset the image using an \"on key press\" function \n",
    "def onKeyPressed(event):\n",
    "    \n",
    "    if event.key in ['R', 'r']:\n",
    "        # ADD - to zoom back out reset the axes\n",
    "        ax.set_ylim(-30,30)\n",
    "        ax.set_xlim(-30,30)\n",
    "        plt.draw()\n"
   ]
  },
  {
   "cell_type": "code",
   "execution_count": 17,
   "metadata": {},
   "outputs": [
    {
     "data": {
      "application/vnd.jupyter.widget-view+json": {
       "model_id": "e84270e91f1f40dab0f2e60bc1674d20",
       "version_major": 2,
       "version_minor": 0
      },
      "text/plain": [
       "Canvas(toolbar=Toolbar(toolitems=[('Home', 'Reset original view', 'home', 'home'), ('Back', 'Back to previous …"
      ]
     },
     "metadata": {},
     "output_type": "display_data"
    }
   ],
   "source": [
    "# plot the particle density for the MW Disk and then zoom in on a region of the disk \n",
    "\n",
    "fig, ax = plt.subplots(figsize =(6 ,5))                             \n",
    "\n",
    "# 2d histogram \n",
    "plt.hist2d(MW_Disk_x, MW_Disk_y, bins=200, norm=LogNorm(), cmap='magma')\n",
    "plt.colorbar(label='Number  of  stars  per  bin')\n",
    "\n",
    "# over plot contours\n",
    "density_contour(MW_Disk_x, MW_Disk_y, 80, 80, ax=ax, \\\n",
    "                colors=['white'])\n",
    "   \n",
    "    \n",
    "## NEW: Rectangle Selector.     \n",
    "rs = mw.RectangleSelector( ax,                        # the axes to attach to\n",
    "                           callbackRectangle,         # the callback function\n",
    "                           drawtype='box',            # draw a box when selecting a region\n",
    "                           button=[1, 3],             # allow us to use left or right mouse button\n",
    "                                                      #button 1 is left mouse button\n",
    "                           minspanx=5, minspany=5,    # don't accept a box of fewer than 5 pixels\n",
    "                           spancoords='pixels' )      # units for above\n",
    "\n",
    "#set axis limits\n",
    "ax.set_ylim(-30,30)\n",
    "ax.set_xlim(-30,30)\n",
    "\n",
    "\n",
    "# Add axis labels\n",
    "plt.xlabel('x (kpc)', fontsize=22)\n",
    "plt.ylabel('y (kpc)', fontsize=22)\n",
    "\n",
    "# ADDED THIS\n",
    "# to detect the 'R' key press to reset the image\n",
    "plt.connect(\"key_press_event\", onKeyPressed)\n",
    "plt.tight_layout()"
   ]
  },
  {
   "cell_type": "markdown",
   "metadata": {},
   "source": [
    "# Part C    Connecting Morphology to Kinematics\n",
    "\n",
    "\n",
    "Make a two panel plot.\n",
    "Left Panel:  Density \n",
    "Right Panel: Phase Diagram \n",
    "\n",
    "Relect a section of the density plot and see where the particles are on the phase diagram"
   ]
  },
  {
   "cell_type": "code",
   "execution_count": 18,
   "metadata": {},
   "outputs": [],
   "source": [
    "# Let's store the circular velocity of the MW like we did in Lab 7\n",
    "\n",
    "# ADD MassProfile Object.\n",
    "\n",
    "MWCirc = MassProfile(\"../../../VLowResData/MW_VLowRes/MW\", 0)"
   ]
  },
  {
   "cell_type": "code",
   "execution_count": 19,
   "metadata": {},
   "outputs": [],
   "source": [
    "# Add an array for radii up to 40 kpc\n",
    "R = np.linspace(0.01, 40, 100)\n",
    "\n",
    "# Store Vcirc \n",
    "Vcirc = MWCirc.CircularVelocityTotal(R)"
   ]
  },
  {
   "cell_type": "code",
   "execution_count": 20,
   "metadata": {},
   "outputs": [],
   "source": [
    "# Step 1) Copy over the call back function and the onkeypressed function\n",
    "\n",
    "# Step 3) Let figure out how to select a region in the density and plot it also in the right panel\n",
    "# We also don't want to zoom in on the left panel, instead let's just mark the region we examined. \n",
    "\n",
    "def callbackRectangle( click, release): # the events are click and release\n",
    "    width = np.abs(release.xdata - click.xdata)\n",
    "    height = np.abs(release.ydata - click.ydata)\n",
    "    \n",
    "    Rect = plt.Rectangle((click.xdata, click.ydata), width, height, fill=False, color='yellow', lw=3)\n",
    "    ax1.add_patch(Rect)\n",
    "    \n",
    "   \n",
    "    index = np.where( (MW_Disk_x > click.xdata) & (MW_Disk_x < release.xdata) & (MW_Disk_y > click.ydata) & (MW_Disk_y < release.ydata) )\n",
    "    ax2.scatter(MW_Disk_x[index], MW_Disk_vy[index])\n",
    "    \n",
    "    \n",
    "    # ADD - in order to zoom in reset the axes to the clicked box size\n",
    "    plt.savefig('density_zoom2.png')\n",
    "   "
   ]
  },
  {
   "cell_type": "code",
   "execution_count": 21,
   "metadata": {},
   "outputs": [],
   "source": [
    "# Save the file\n",
    "# add the ability to reset the image using an \"on key press\" function \n",
    "def onKeyPressed(event):\n",
    "    \n",
    "    if event.key in ['R', 'r']:\n",
    "        # ADD - to zoom back out reset the axes\n",
    "        ax1.set_ylim(-30,30)\n",
    "        ax1.set_xlim(-30,30)\n",
    "        plt.draw()\n"
   ]
  },
  {
   "cell_type": "code",
   "execution_count": 23,
   "metadata": {},
   "outputs": [
    {
     "data": {
      "application/vnd.jupyter.widget-view+json": {
       "model_id": "13a2e982c65d441d9cb5eaac749109b0",
       "version_major": 2,
       "version_minor": 0
      },
      "text/plain": [
       "Canvas(toolbar=Toolbar(toolitems=[('Home', 'Reset original view', 'home', 'home'), ('Back', 'Back to previous …"
      ]
     },
     "metadata": {},
     "output_type": "display_data"
    }
   ],
   "source": [
    "# plot the particle density for the MW Disk and then zoom in on a region of the disk \n",
    "# Step 2) \n",
    "# Add not just the density but also the phase diagram as a separate panel.\n",
    "# Copy over the plotting code (2D histogram) and modify the figure so that there are now two panels.\n",
    "\n",
    "# Add a phase diagram: X vs VY\n",
    "\n",
    "fig, [ax1, ax2] = plt.subplots(nrows=1, ncols=2, figsize = (12,6))                             \n",
    "\n",
    "# 2d histogram \n",
    "ax1.hist2d(MW_Disk_x, MW_Disk_y, bins=200, norm=LogNorm(), cmap='magma')\n",
    "# ax1.colorbar(label='Number  of  stars  per  bin')\n",
    "\n",
    "# over plot contours\n",
    "density_contour(MW_Disk_x, MW_Disk_y, 80, 80, ax=ax1, colors=['white'])\n",
    "   \n",
    "    \n",
    "## NEW: Rectangle Selector.     \n",
    "rs = mw.RectangleSelector( ax1,                        # the axes to attach to\n",
    "                           callbackRectangle,         # the callback function\n",
    "                           drawtype='box',            # draw a box when selecting a region\n",
    "                           button=[1, 3],             # allow us to use left or right mouse button\n",
    "                                                      #button 1 is left mouse button\n",
    "                           minspanx=5, minspany=5,    # don't accept a box of fewer than 5 pixels\n",
    "                           spancoords='pixels' )      # units for above\n",
    "\n",
    "\n",
    "#set axis limits\n",
    "ax1.set_ylim(-30,30)\n",
    "ax1.set_xlim(-30,30)\n",
    "\n",
    "\n",
    "# Add axis labels\n",
    "ax1.set_xlabel('x (kpc)', fontsize=22)\n",
    "ax1.set_ylabel('y (kpc)', fontsize=22)\n",
    "\n",
    "\n",
    "#### Phase diagram on the right panel\n",
    "ax2.hist2d(MW_Disk_x, MW_Disk_vy, bins=200, norm=LogNorm(), cmap='magma')\n",
    "\n",
    "ax2.plot(R, -Vcirc, color='blue')\n",
    "ax2.plot(-R, Vcirc, color='blue')\n",
    "\n",
    "# set axis llimits\n",
    "#set axis limits\n",
    "# ax1.set_ylim(-30,30)\n",
    "ax2.set_xlim(-30,30)\n",
    "ax2.set_xlabel('x (kpc)', fontsize=22)\n",
    "ax2.set_ylabel('Vy (km/s)', fontsize=22)\n",
    "\n",
    "\n",
    "# ADDED THIS\n",
    "# to detect the 'R' key press to reset the image\n",
    "plt.connect(\"key_press_event\", onKeyPressed)\n",
    "plt.tight_layout()"
   ]
  },
  {
   "cell_type": "markdown",
   "metadata": {},
   "source": [
    "# Part D:  Flip it around \n",
    "\n",
    "Now Pick based on kinematics and find out where they are in the disk.\n",
    "This would be a good way to find e.g. high velocity particles. or particles that are really not obeying the normal kinematics of the disk at the current time."
   ]
  },
  {
   "cell_type": "code",
   "execution_count": 24,
   "metadata": {},
   "outputs": [],
   "source": [
    "# Copy over the Call back function and the onkeypressed function from Part C\n",
    "# flip the axes ax[0] < --- > ax[1]\n",
    "\n",
    "def callbackRectangle( click, release): # the events are click and release\n",
    "    width = np.abs(release.xdata - click.xdata)\n",
    "    height = np.abs(release.ydata - click.ydata)\n",
    "    \n",
    "    Rect = plt.Rectangle((click.xdata, click.ydata), width, height, fill=False, color='yellow', lw=3)\n",
    "    ax2.add_patch(Rect)\n",
    "    \n",
    "   \n",
    "    index = np.where( (MW_Disk_x > click.xdata) & (MW_Disk_x < release.xdata) & (MW_Disk_vy > click.ydata) & (MW_Disk_vy < release.ydata) )\n",
    "    ax1.scatter(MW_Disk_x[index], MW_Disk_y[index])\n",
    "    \n",
    "    \n",
    "    # ADD - in order to zoom in reset the axes to the clicked box size\n",
    "    plt.savefig('density_zoom2.png')\n",
    "   "
   ]
  },
  {
   "cell_type": "code",
   "execution_count": 25,
   "metadata": {},
   "outputs": [
    {
     "ename": "SyntaxError",
     "evalue": "unexpected EOF while parsing (<ipython-input-25-1f0112f97c9f>, line 9)",
     "output_type": "error",
     "traceback": [
      "\u001b[1;36m  File \u001b[1;32m\"<ipython-input-25-1f0112f97c9f>\"\u001b[1;36m, line \u001b[1;32m9\u001b[0m\n\u001b[1;33m    # plt.draw()\u001b[0m\n\u001b[1;37m                ^\u001b[0m\n\u001b[1;31mSyntaxError\u001b[0m\u001b[1;31m:\u001b[0m unexpected EOF while parsing\n"
     ]
    }
   ],
   "source": [
    "# Save the file\n",
    "# add the ability to reset the image using an \"on key press\" function \n",
    "def onKeyPressed(event):\n",
    "    \n",
    "    if event.key in ['R', 'r']:\n",
    "        # ADD - to zoom back out reset the axes\n",
    "        # ax1.set_ylim(-30,30)\n",
    "        # ax1.set_xlim(-30,30)\n",
    "        # plt.draw()\n"
   ]
  },
  {
   "cell_type": "code",
   "execution_count": 26,
   "metadata": {},
   "outputs": [
    {
     "data": {
      "application/vnd.jupyter.widget-view+json": {
       "model_id": "ae318d59bfe44142afe0014220562b90",
       "version_major": 2,
       "version_minor": 0
      },
      "text/plain": [
       "Canvas(toolbar=Toolbar(toolitems=[('Home', 'Reset original view', 'home', 'home'), ('Back', 'Back to previous …"
      ]
     },
     "metadata": {},
     "output_type": "display_data"
    },
    {
     "data": {
      "text/plain": [
       "14"
      ]
     },
     "execution_count": 26,
     "metadata": {},
     "output_type": "execute_result"
    }
   ],
   "source": [
    "# Copy over the Density and phase diagram code\n",
    "# flip the axes ax[0]<--> ax[1]\n",
    "\n",
    "fig, [ax1, ax2] = plt.subplots(nrows=1, ncols=2, figsize =(12 ,6))                             \n",
    "\n",
    "# 2d histogram \n",
    "ax1.hist2d(MW_Disk_x, MW_Disk_y, bins=200, norm=LogNorm(), cmap='magma')\n",
    "\n",
    "# over plot contours\n",
    "density_contour(MW_Disk_x, MW_Disk_y, 80, 80, ax=ax1, colors=['white'])\n",
    "   \n",
    "    \n",
    "## NEW: Rectangle Selector.     \n",
    "rs = mw.RectangleSelector( ax2,                        # the axes to attach to\n",
    "                           callbackRectangle,         # the callback function\n",
    "                           drawtype='box',            # draw a box when selecting a region\n",
    "                           button=[1, 3],             # allow us to use left or right mouse button\n",
    "                                                      #button 1 is left mouse button\n",
    "                           minspanx=5, minspany=5,    # don't accept a box of fewer than 5 pixels\n",
    "                           spancoords='pixels' )      # units for above\n",
    "\n",
    "\n",
    "#set axis limits\n",
    "ax1.set_ylim(-30,30)\n",
    "ax1.set_xlim(-30,30)\n",
    "\n",
    "\n",
    "# Add axis labels\n",
    "ax1.set_xlabel('x (kpc)', fontsize=22)\n",
    "ax1.set_ylabel('y (kpc)', fontsize=22)\n",
    "\n",
    "\n",
    "#### Phase diagram on the right panel\n",
    "ax2.hist2d(MW_Disk_x, MW_Disk_vy, bins=200, norm=LogNorm(), cmap='magma')\n",
    "\n",
    "ax2.plot(R, -Vcirc, color='blue')\n",
    "ax2.plot(-R, Vcirc, color='blue')\n",
    "\n",
    "# set axis llimits\n",
    "#set axis limits\n",
    "# ax1.set_ylim(-30,30)\n",
    "ax2.set_xlim(-30,30)\n",
    "ax2.set_xlabel('x (kpc)', fontsize=22)\n",
    "ax2.set_ylabel('Vy (km/s)', fontsize=22)\n",
    "\n",
    "plt.tight_layout()\n",
    "\n",
    "# ADDED THIS\n",
    "# to detect the 'R' key press to reset the image\n",
    "plt.connect(\"key_press_event\", onKeyPressed)"
   ]
  },
  {
   "cell_type": "markdown",
   "metadata": {},
   "source": [
    "# Part E : Connecting particles across snapshots\n"
   ]
  },
  {
   "cell_type": "code",
   "execution_count": 5,
   "metadata": {},
   "outputs": [],
   "source": [
    "# Load in a different snapshot\n",
    "COM_2 = CenterOfMass(\"../../../VLowResData/MW_VLowRes/MW_400.txt\", 2)"
   ]
  },
  {
   "cell_type": "code",
   "execution_count": 6,
   "metadata": {},
   "outputs": [],
   "source": [
    "\n",
    "# Compute COM of the MW at the new position using disk particles\n",
    "COMP_2 = COM_2.COM_P(0.1, 2)\n",
    "# Determine positions of disk particles relative to COM \n",
    "MW_Disk_2_x = COM_2.x - COMP_2[0].value \n",
    "MW_Disk_2_y = COM_2.y - COMP_2[1].value \n"
   ]
  },
  {
   "cell_type": "code",
   "execution_count": 7,
   "metadata": {},
   "outputs": [],
   "source": [
    "# Copy over the Call back function and the onkeypressed function from Part C\n",
    "\n",
    "def callbackRectangle( click, release): # the events are click and release\n",
    "    width = np.abs(release.xdata - click.xdata)\n",
    "    height = np.abs(release.ydata - click.ydata)\n",
    "    \n",
    "    Rect = plt.Rectangle((click.xdata, click.ydata), width, height, fill=False, color='yellow', lw=3)\n",
    "    ax1.add_patch(Rect)\n",
    "    \n",
    "   \n",
    "    index = np.where( (MW_Disk_x > click.xdata) & (MW_Disk_x < release.xdata) & (MW_Disk_y > click.ydata) & (MW_Disk_y < release.ydata) )\n",
    "    ax2.scatter(MW_Disk_2_x[index], MW_Disk_2_y[index])\n",
    "    \n",
    "    \n",
    "    # ADD - in order to zoom in reset the axes to the clicked box size\n",
    "    plt.savefig('density_future.png')\n",
    "   "
   ]
  },
  {
   "cell_type": "code",
   "execution_count": 8,
   "metadata": {},
   "outputs": [],
   "source": [
    "# Save the file\n",
    "# add the ability to reset the image using an \"on key press\" function \n",
    "def onKeyPressed(event):\n",
    "    \n",
    "    if event.key in ['R', 'r']:\n",
    "        # ADD - to zoom back out reset the axes\n",
    "        ax1.set_ylim(-30,30)\n",
    "        ax1.set_xlim(-30,30)\n",
    "        plt.draw()\n"
   ]
  },
  {
   "cell_type": "code",
   "execution_count": 9,
   "metadata": {},
   "outputs": [
    {
     "data": {
      "text/plain": [
       "13"
      ]
     },
     "execution_count": 9,
     "metadata": {},
     "output_type": "execute_result"
    }
   ],
   "source": [
    "# Copy over the plotting script from Part C\n",
    "# Instead of the phase plot, have the second panel be the MW at a different snapshot\n",
    "\n",
    "# Copy over the Density and phase diagram code\n",
    "# flip the axes ax[0]<--> ax[1]\n",
    "\n",
    "fig, [ax1, ax2] = plt.subplots(nrows=1, ncols=2, figsize =(12 ,6))                             \n",
    "\n",
    "# 2d histogram \n",
    "ax1.hist2d(MW_Disk_x, MW_Disk_y, bins=200, norm=LogNorm(), cmap='magma')\n",
    "\n",
    "# over plot contours\n",
    "density_contour(MW_Disk_x, MW_Disk_y, 80, 80, ax=ax1, colors=['white'])\n",
    "   \n",
    "    \n",
    "## NEW: Rectangle Selector.     \n",
    "rs = mw.RectangleSelector( ax1,                        # the axes to attach to\n",
    "                           callbackRectangle,         # the callback function\n",
    "                           drawtype='box',            # draw a box when selecting a region\n",
    "                           button=[1, 3],             # allow us to use left or right mouse button\n",
    "                                                      #button 1 is left mouse button\n",
    "                           minspanx=5, minspany=5,    # don't accept a box of fewer than 5 pixels\n",
    "                           spancoords='pixels' )      # units for above\n",
    "\n",
    "\n",
    "#set axis limits\n",
    "ax1.set_ylim(-30,30)\n",
    "ax1.set_xlim(-30,30)\n",
    "\n",
    "\n",
    "# Add axis labels\n",
    "ax1.set_xlabel('x (kpc)', fontsize=22)\n",
    "ax1.set_ylabel('y (kpc)', fontsize=22)\n",
    "\n",
    "\n",
    "#### Phase diagram on the right panel\n",
    "ax2.hist2d(MW_Disk_2_x, MW_Disk_2_y, bins=200, norm=LogNorm(), cmap='magma')\n",
    "\n",
    "# set axis llimits\n",
    "#set axis limits\n",
    "ax2.set_ylim(-50,50)\n",
    "ax2.set_xlim(-50,50)\n",
    "ax2.set_xlabel('x (kpc)', fontsize=22)\n",
    "ax2.set_ylabel('y (kpc)', fontsize=22)\n",
    "\n",
    "plt.tight_layout()\n",
    "\n",
    "# ADDED THIS\n",
    "# to detect the 'R' key press to reset the image\n",
    "plt.connect(\"key_press_event\", onKeyPressed)"
   ]
  },
  {
   "cell_type": "code",
   "execution_count": null,
   "metadata": {},
   "outputs": [],
   "source": []
  }
 ],
 "metadata": {
  "kernelspec": {
   "display_name": "Python 3",
   "language": "python",
   "name": "python3"
  },
  "language_info": {
   "codemirror_mode": {
    "name": "ipython",
    "version": 3
   },
   "file_extension": ".py",
   "mimetype": "text/x-python",
   "name": "python",
   "nbconvert_exporter": "python",
   "pygments_lexer": "ipython3",
   "version": "3.7.4"
  },
  "widgets": {
   "application/vnd.jupyter.widget-state+json": {
    "state": {},
    "version_major": 2,
    "version_minor": 0
   }
  }
 },
 "nbformat": 4,
 "nbformat_minor": 4
}
