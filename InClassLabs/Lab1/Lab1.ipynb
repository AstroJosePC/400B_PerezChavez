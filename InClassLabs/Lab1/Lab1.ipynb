{
 "cells": [
  {
   "cell_type": "markdown",
   "metadata": {},
   "source": [
    "# In Class Lab 1\n",
    "\n",
    "## Part A:  The Local Standard of Rest\n",
    "Proper motion of Sgr A* from Reid & Brunthaler 2004\n",
    "$\\mu = 6.379$ mas/yr \n",
    "\n",
    "Peculiar motion of the sun, $v_\\odot$ = 12.24 km/s  (Schonrich 2010)\n",
    "\n",
    "\n",
    "$v_{tan} = 4.74 \\frac{\\mu}{\\rm mas/yr} \\frac{R_o}{\\rm kpc} = V_{LSR} + v_\\odot$\n",
    "\n",
    "\n",
    "### a)\n",
    "\n",
    "Create a function called VLSR to compute the local standard of res (V$_{LSR}$).\n",
    "\n",
    "The function should take as input: the solar radius (R$_o$), the proper motion (mu)\n",
    "and the peculiar motion of the sun in the $v_\\odot$ direction.\n",
    "\n",
    "Compute V$_{LSR}$ using three different values R$_o$: \n",
    "1. Water Maser Distance for the Sun :  R$_o$ = 8.34 kpc   (Reid 2014 ApJ 783) \n",
    "2. GRAVITY Collaboration Distance for the Sun:  R$_o$ = 8.178 kpc   (Abuter+2019 A&A 625)\n",
    "3. Value for Distance to Sun listed in Sparke & Gallagher : R$_o$ = 7.9 kpc \n"
   ]
  },
  {
   "cell_type": "code",
   "execution_count": 18,
   "metadata": {},
   "outputs": [],
   "source": [
    "import numpy as np\n",
    "import astropy.units as u"
   ]
  },
  {
   "cell_type": "code",
   "execution_count": 10,
   "metadata": {},
   "outputs": [],
   "source": [
    "def VLSR(R0, mu=6.379, vsun=12.24):\n",
    "    # Calculate the local standard of res velocity\n",
    "    # VLSR = 4.74 * mu * R0 - vsun\n",
    "    \"\"\"\n",
    "    :param R0: distance from the sun to the Galactic center (kpc)\n",
    "    :param mu: is the proper motion of Sag A* (mas/yr)\n",
    "    :param vsun: is the peculiar motion of the sun (km/s)\n",
    "    :return: Local standard of res velocity (km/s)\n",
    "    \"\"\"\n",
    "    return 4.74 * mu * R0 - vsun"
   ]
  },
  {
   "cell_type": "code",
   "execution_count": 17,
   "metadata": {},
   "outputs": [
    {
     "name": "stdout",
     "output_type": "stream",
     "text": [
      "1. VLSR [Water]\t\t= 239.932 km/s\n",
      "2. VLSR [Gravity]\t= 235.034 km/s\n",
      "3. VLSR [Gallagher]\t= 226.628 km/s\n"
     ]
    }
   ],
   "source": [
    "# 1. Water Maser Distance for the Sun : R𝑜 = 8.34 kpc (Reid 2014 ApJ 783) \n",
    "R0_water = 8.34\n",
    "vlsr_water = VLSR(R0_water)\n",
    "\n",
    "# 2. GRAVITY Collaboration Distance for the Sun: R𝑜 = 8.178 kpc (Abuter+2019 A&A 625)\n",
    "R0_gravity = 8.178\n",
    "vlsr_gravity = VLSR(R0_gravity)\n",
    "\n",
    "# 3. Value for Distance to Sun listed in Sparke & Gallagher : R𝑜 = 7.9 kpc\n",
    "R0_gallagher = 7.9\n",
    "vlsr_gallagher = VLSR(R0_gallagher)\n",
    "\n",
    "print(f'1. VLSR [Water]\\t\\t= {vlsr_water:.3f} km/s')\n",
    "print(f'2. VLSR [Gravity]\\t= {vlsr_gravity:.3f} km/s')\n",
    "print(f'3. VLSR [Gallagher]\\t= {vlsr_gallagher:.3f} km/s')"
   ]
  },
  {
   "cell_type": "markdown",
   "metadata": {},
   "source": [
    "### b)\n",
    "\n",
    "compute the orbital period of the sun using R$_o$ from the GRAVITY Collaboration (assume circular orbit)\n",
    "\n",
    "Note that 1 km/s $\\sim$ 1kpc/Gyr"
   ]
  },
  {
   "cell_type": "code",
   "execution_count": 25,
   "metadata": {},
   "outputs": [
    {
     "name": "stdout",
     "output_type": "stream",
     "text": [
      "The sun's orbital period is 203.187 Myr\n"
     ]
    }
   ],
   "source": [
    "# Calculate the orbital period of the sun; circumference / tangential velocity \n",
    "# Use astropy units such that it takes care of unit conversions\n",
    "# Circumference = 2 pi R\n",
    "# Tangential velocity = vlsr + vsun\n",
    "\n",
    "circumfernece = 2 * np.pi * R0_gravity * u.kpc \n",
    "period_gravity = circumfernece / ((vlsr_gravity + vsun) * u.km / u.s)\n",
    "period_gravity = period_gravity.to(u.Myr)\n",
    "\n",
    "print(f'The sun\\'s orbital period is {period_gravity:.3f}')"
   ]
  },
  {
   "cell_type": "markdown",
   "metadata": {},
   "source": [
    "### c)\n",
    "\n",
    "Compute the number of rotations about the GC over the age of the universe (13.8 Gyr)"
   ]
  },
  {
   "cell_type": "code",
   "execution_count": 36,
   "metadata": {},
   "outputs": [
    {
     "name": "stdout",
     "output_type": "stream",
     "text": [
      "Number of rotations: 68.0\n"
     ]
    }
   ],
   "source": [
    "# To calculate this we can use astropy units again because we are lazy\n",
    "# Divide the age of the universe by the sun's orbital period\n",
    "age_universe = 13.8 * u.Gyr\n",
    "num_rotations = age_universe / period_gravity\n",
    "print(f'Number of rotations: {np.round(num_rotations.to(u.Myr/u.Myr))}')"
   ]
  },
  {
   "cell_type": "markdown",
   "metadata": {},
   "source": [
    "## Part B  Dark Matter Density Profiles\n",
    "\n",
    "### a)\n",
    "Try out Fitting Rotation Curves \n",
    "[here](http://wittman.physics.ucdavis.edu/Animations/RotationCurve/GalacticRotation.html)\n",
    "\n",
    "\n",
    "### b)\n",
    "\n",
    "In the Isothermal Sphere model, what is the mass enclosed within the solar radius (R$_o$) in units of $10^{10}$ M$_\\odot$? \n",
    "\n",
    "Recall that for the Isothermal sphere :\n",
    "$\\rho(r) = \\frac{V_{LSR}^2}{4\\pi G r^2}$\n",
    "\n",
    "Where $G$ = 4.4988e-6 kpc$^3$/Gyr$^2$/M$_\\odot$\n",
    "\n",
    "What about at 260 kpc (in units of 10$^{12}$ M$_\\odot$) ? "
   ]
  },
  {
   "cell_type": "code",
   "execution_count": 39,
   "metadata": {},
   "outputs": [],
   "source": [
    "# Gravitational constant in kpc^3$/Gyr^2/Msun\n",
    "G = 4.4988e-6"
   ]
  },
  {
   "cell_type": "code",
   "execution_count": 41,
   "metadata": {},
   "outputs": [],
   "source": [
    "# Compute the mass enclosed within the galactic radius  assuming an aisothermal sphere model\n",
    "\n",
    "# Density profile is rho = VLSR^2 / ( 4 pi G r^2 )\n",
    "# Mass = integrate Rho dV\n",
    "\n",
    "# Integrate   rho 4 pi r^2 dr\n",
    "# Integrate   VLSR^2  / (4 pi G r^2) * 4 pi r^2 dr\n",
    "# Integrate   VLSR^2/ G dr\n",
    "# Integrate   VLSR^2 r / G\n",
    "\n",
    "def MassIso(r, vlsr=235.034):\n",
    "    \"\"\"\n",
    "    :param r: distance from galactic center (kpc)\n",
    "    :param vlsr: local standard of res velocity (km/s) - default gravity's vlsr\n",
    "    :return: mass enclosed in given radius (Msun)\n",
    "    \"\"\"\n",
    "    return vlsr**2 * r / G"
   ]
  },
  {
   "cell_type": "code",
   "execution_count": 47,
   "metadata": {},
   "outputs": [
    {
     "name": "stdout",
     "output_type": "stream",
     "text": [
      "10.041805456872233\n",
      "3.1925524807859866\n"
     ]
    }
   ],
   "source": [
    "# Compute mass enclosed within Ro\n",
    "MIsoSolar = MassIso(R0_gravity)\n",
    "print(MIsoSolar / 1e10)\n",
    "\n",
    "# Compute mass ecnlosed within 260 kpc in units of 10^12 Msun\n",
    "MIso260 = MassIso(260)\n",
    "print(MIso260 / 1e12)"
   ]
  },
  {
   "cell_type": "markdown",
   "metadata": {},
   "source": [
    "## c) \n",
    "\n",
    "The Leo I satellite is one of the fastest moving satellite galaxies we know. \n",
    "\n",
    "\n",
    "It is moving with 3D velocity of magnitude: Vtot = 196 km/s at a distance of 260 kpc (Sohn 2013 ApJ 768)\n",
    "\n",
    "If we assume that Leo I is moving at the escape speed:\n",
    "\n",
    "$v_{esc}^2 = 2|\\Phi| = 2 \\int G \\frac{\\rho(r)}{r}dV $ \n",
    "\n",
    "and assuming the Milky Way is well modeled by a Hernquist Sphere with a scale radius of $a$= 30 kpc, what is the minimum mass of the Milky Way (in units of $10^{12}$ M$_\\odot$) ?  \n",
    "\n",
    "How does this compare to estimates of the mass assuming the Isothermal Sphere model at 260 kpc (from your answer above)"
   ]
  },
  {
   "cell_type": "code",
   "execution_count": 49,
   "metadata": {},
   "outputs": [],
   "source": [
    "# Potential for a Hernquist Sphere\n",
    "# Phi = - G M / ( r + a )\n",
    "# Use Hernquist potential to get the escape velocity\n",
    "# Vesc^2 = 2 * G M / (r + a)\n",
    "# M = Vesc^2 (r + a) / (2 G)\n",
    "\n",
    "# Determine the total halo mass needed to set a given escape at a given \n",
    "# distance assuming a Hernquist profile for the dark matter halo\n",
    "\n",
    "def MassFromVesc(Vesc, r, a=30):\n",
    "    \"\"\"\n",
    "    :param Vesc: escape velocity (km/s)\n",
    "    :param r: distance from the galactic center (kpc)\n",
    "    :param a: Hernquist scale length (kpc)\n",
    "    :return: Total halo mass (Msun)\n",
    "    \"\"\"\n",
    "    return Vesc**2 * (r + a) / (2 * G)"
   ]
  },
  {
   "cell_type": "code",
   "execution_count": 52,
   "metadata": {},
   "outputs": [
    {
     "data": {
      "text/plain": [
       "1.2381790699742152"
      ]
     },
     "execution_count": 52,
     "metadata": {},
     "output_type": "execute_result"
    }
   ],
   "source": [
    "# Mass needed to keep Leo 1 bounded, assuming Hernquist Profile\n",
    "MLeo1 = MassFromVesc(196, 260)\n",
    "MLeo1/1e12"
   ]
  },
  {
   "cell_type": "code",
   "execution_count": 51,
   "metadata": {},
   "outputs": [
    {
     "data": {
      "text/plain": [
       "2.578425494506599"
      ]
     },
     "execution_count": 51,
     "metadata": {},
     "output_type": "execute_result"
    }
   ],
   "source": [
    "MIso260/MLeo1"
   ]
  },
  {
   "cell_type": "code",
   "execution_count": null,
   "metadata": {},
   "outputs": [],
   "source": []
  }
 ],
 "metadata": {
  "kernelspec": {
   "display_name": "Python 3",
   "language": "python",
   "name": "python3"
  },
  "language_info": {
   "codemirror_mode": {
    "name": "ipython",
    "version": 3
   },
   "file_extension": ".py",
   "mimetype": "text/x-python",
   "name": "python",
   "nbconvert_exporter": "python",
   "pygments_lexer": "ipython3",
   "version": "3.7.6"
  }
 },
 "nbformat": 4,
 "nbformat_minor": 4
}
