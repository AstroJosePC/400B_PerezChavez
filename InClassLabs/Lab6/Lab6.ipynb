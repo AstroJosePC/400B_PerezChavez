{
 "cells": [
  {
   "cell_type": "code",
   "execution_count": 2,
   "metadata": {},
   "outputs": [],
   "source": [
    "# In Class Lab 6\n",
    "# Surface Brightness Profiles\n"
   ]
  },
  {
   "cell_type": "code",
   "execution_count": 3,
   "metadata": {},
   "outputs": [],
   "source": [
    "# Add path to other HW folders / Modular Design\n",
    "import sys\n",
    "sys.path.append(\"../../Homeworks\")\n",
    "\n",
    "# Load Modules\n",
    "import numpy as np\n",
    "import astropy.units as u\n",
    "\n",
    "# import plotting modules\n",
    "import matplotlib.pyplot as plt\n",
    "import matplotlib\n",
    "%matplotlib inline\n",
    "\n",
    "from Homework2.ReadFile import Read\n",
    "from Homework4.CenterOfMass import CenterOfMass\n",
    "from Homework5.MassProfile import MassProfile"
   ]
  },
  {
   "cell_type": "markdown",
   "metadata": {},
   "source": [
    "# Lab 6: Sersic Profiles\n",
    "\n",
    "In this lab we will use Homework 5 solutions to compute the mass profile of the Milky Way's bulge. \n",
    "We will turn the mass profile into a density profile and see if we can fit it reasonably well \n",
    "with a sersic profile. "
   ]
  },
  {
   "cell_type": "markdown",
   "metadata": {},
   "source": [
    "# Part A : \n",
    "\n",
    "Create a function called `SersicE` that returns the Sersic Profile in terms of the effective radius $R_e$ (i.e. the half light radius).\n",
    "\n",
    "$I(r) = I_e exp^{-7.67 ( (r/R_e)^{1/n} - 1)}$\n",
    "\n",
    "Where \n",
    "\n",
    "$ L = 7.2 I_e \\pi R_e^2$\n",
    "\n",
    "and  $R_e$ is the half light radius.  We will assume a mass to light ratio for the stellar bulge of 1, so this is also the half mass radius.\n",
    "\n",
    "The function should take as input: the radius, $R_e$, $n$ and the total stellar mass of the system.\n"
   ]
  },
  {
   "cell_type": "code",
   "execution_count": 4,
   "metadata": {},
   "outputs": [],
   "source": [
    "def SersicE(R, Re, n, Mtot):\n",
    "    \"\"\"\n",
    "    :param R: array of radii (kpc)\n",
    "    :param Re: half mass radius (kpc)\n",
    "    :param n: the sersic index\n",
    "    :param Mtot: total stellar mass (Msun)\n",
    "    \n",
    "    :return: Surface brightness profiel (Lsun/kpc^2)\n",
    "    \"\"\"\n",
    "    # Assuming the M/L = 1\n",
    "    # Total luminiosity = total stellar mass\n",
    "    L = Mtot\n",
    "    \n",
    "    Ie = L / (7.2*np.pi * Re**2)\n",
    "    A = (R/Re)**(1/n) - 1\n",
    "    return Ie * np.exp(-7.67 * A)"
   ]
  },
  {
   "cell_type": "markdown",
   "metadata": {},
   "source": [
    "# Part B\n",
    "\n",
    "a) Create an instance of the MassProfile Class for the MW. Store it as a variable `MW`. "
   ]
  },
  {
   "cell_type": "code",
   "execution_count": 5,
   "metadata": {},
   "outputs": [
    {
     "data": {
      "text/plain": [
       "\u001b[0;31mInit signature:\u001b[0m \u001b[0mMassProfile\u001b[0m\u001b[0;34m(\u001b[0m\u001b[0mgalaxy\u001b[0m\u001b[0;34m,\u001b[0m \u001b[0msnap\u001b[0m\u001b[0;34m)\u001b[0m\u001b[0;34m\u001b[0m\u001b[0;34m\u001b[0m\u001b[0m\n",
       "\u001b[0;31mDocstring:\u001b[0m     \n",
       ":param galaxy: a Galaxy name, e.g. \"MW\", \"M31\" or \"M33\"\n",
       ":param snap: snapshot number, e.g. 0, 1, etc\n",
       "\u001b[0;31mInit docstring:\u001b[0m\n",
       "        \n",
       "        \n",
       "\u001b[0;31mFile:\u001b[0m           ~/repos/400B_PerezChavez/Homeworks/Homework5/MassProfile.py\n",
       "\u001b[0;31mType:\u001b[0m           type\n",
       "\u001b[0;31mSubclasses:\u001b[0m     \n"
      ]
     },
     "metadata": {},
     "output_type": "display_data"
    }
   ],
   "source": [
    "MassProfile?"
   ]
  },
  {
   "cell_type": "code",
   "execution_count": 6,
   "metadata": {},
   "outputs": [],
   "source": [
    "M31 = MassProfile('M31', 0)"
   ]
  },
  {
   "cell_type": "markdown",
   "metadata": {},
   "source": [
    "b) Create an array of radii from 0.1 kpc to 30 kpc in increments of 0.1\n"
   ]
  },
  {
   "cell_type": "code",
   "execution_count": 7,
   "metadata": {},
   "outputs": [],
   "source": [
    "R = np.arange(0.1, 30, 0.1)"
   ]
  },
  {
   "cell_type": "markdown",
   "metadata": {},
   "source": [
    "c) Define a new array called `BulgeMass`, that uses the function `MassEnclosed` within MassProfile to compute the mass profile of the bulge.  Get rid of astropy units in `BulgeMass` by adding `.value` \n"
   ]
  },
  {
   "cell_type": "code",
   "execution_count": 8,
   "metadata": {},
   "outputs": [
    {
     "data": {
      "text/latex": [
       "$[7018410,~40105200,~1.3334979 \\times 10^{8},~\\dots,~1.7831775 \\times 10^{10},~1.7835785 \\times 10^{10},~1.7838793 \\times 10^{10}] \\; \\mathrm{M_{\\odot}}$"
      ],
      "text/plain": [
       "<Quantity [7.01841000e+06, 4.01052000e+07, 1.33349790e+08, 3.26857380e+08,\n",
       "           6.64743690e+08, 1.15904028e+09, 1.80874452e+09, 2.55269598e+09,\n",
       "           3.23448438e+09, 3.91125963e+09, 4.43864301e+09, 4.99410003e+09,\n",
       "           5.52649656e+09, 5.97768006e+09, 6.40179255e+09, 6.79582614e+09,\n",
       "           7.13972823e+09, 7.48563558e+09, 7.82853504e+09, 8.14135560e+09,\n",
       "           8.42008674e+09, 8.68377843e+09, 8.92942278e+09, 9.17707239e+09,\n",
       "           9.42271674e+09, 9.66936372e+09, 9.90397914e+09, 1.01446103e+10,\n",
       "           1.03290943e+10, 1.05155834e+10, 1.06810174e+10, 1.08514645e+10,\n",
       "           1.10309353e+10, 1.11803271e+10, 1.13016454e+10, 1.14540451e+10,\n",
       "           1.15763660e+10, 1.16986868e+10, 1.18059682e+10, 1.19232760e+10,\n",
       "           1.20225363e+10, 1.21418493e+10, 1.22441176e+10, 1.23293411e+10,\n",
       "           1.24205804e+10, 1.25138250e+10, 1.26020565e+10, 1.26892853e+10,\n",
       "           1.27855378e+10, 1.28677534e+10, 1.29359323e+10, 1.30161427e+10,\n",
       "           1.30883320e+10, 1.31745582e+10, 1.32587791e+10, 1.33209422e+10,\n",
       "           1.33800973e+10, 1.34512841e+10, 1.35294892e+10, 1.35846339e+10,\n",
       "           1.36588285e+10, 1.37260047e+10, 1.37811493e+10, 1.38312808e+10,\n",
       "           1.38874281e+10, 1.39415701e+10, 1.39997227e+10, 1.40538647e+10,\n",
       "           1.41210409e+10, 1.41781908e+10, 1.42223065e+10, 1.42844696e+10,\n",
       "           1.43346011e+10, 1.43817247e+10, 1.44248378e+10, 1.44679509e+10,\n",
       "           1.45130692e+10, 1.45662086e+10, 1.46023033e+10, 1.46514322e+10,\n",
       "           1.47025663e+10, 1.47466820e+10, 1.47837793e+10, 1.48238845e+10,\n",
       "           1.48589766e+10, 1.48900581e+10, 1.49311660e+10, 1.49742790e+10,\n",
       "           1.50143842e+10, 1.50585000e+10, 1.50955973e+10, 1.51306893e+10,\n",
       "           1.51577603e+10, 1.52078918e+10, 1.52369681e+10, 1.52680496e+10,\n",
       "           1.52951206e+10, 1.53262022e+10, 1.53572837e+10, 1.54074152e+10,\n",
       "           1.54415046e+10, 1.54836151e+10, 1.55197098e+10, 1.55487860e+10,\n",
       "           1.55808702e+10, 1.56169649e+10, 1.56600780e+10, 1.56901569e+10,\n",
       "           1.57352752e+10, 1.57723725e+10, 1.58134804e+10, 1.58395487e+10,\n",
       "           1.58696276e+10, 1.58997065e+10, 1.59167512e+10, 1.59428196e+10,\n",
       "           1.59668827e+10, 1.59949564e+10, 1.60160116e+10, 1.60430826e+10,\n",
       "           1.60661431e+10, 1.60831878e+10, 1.60982273e+10, 1.61182799e+10,\n",
       "           1.61403377e+10, 1.61583851e+10, 1.61714193e+10, 1.61974876e+10,\n",
       "           1.62145324e+10, 1.62446113e+10, 1.62666691e+10, 1.62867217e+10,\n",
       "           1.63027638e+10, 1.63137927e+10, 1.63338453e+10, 1.63559032e+10,\n",
       "           1.63719453e+10, 1.63950058e+10, 1.64190689e+10, 1.64371162e+10,\n",
       "           1.64621820e+10, 1.64902556e+10, 1.65062977e+10, 1.65183292e+10,\n",
       "           1.65353740e+10, 1.65554266e+10, 1.65754792e+10, 1.65955318e+10,\n",
       "           1.66095686e+10, 1.66276159e+10, 1.66406501e+10, 1.66667185e+10,\n",
       "           1.66797527e+10, 1.66967974e+10, 1.67098316e+10, 1.67288815e+10,\n",
       "           1.67459263e+10, 1.67569552e+10, 1.67750025e+10, 1.67970604e+10,\n",
       "           1.68171130e+10, 1.68271393e+10, 1.68381682e+10, 1.68491971e+10,\n",
       "           1.68702524e+10, 1.68772708e+10, 1.68852918e+10, 1.68973234e+10,\n",
       "           1.69103576e+10, 1.69213865e+10, 1.69324154e+10, 1.69444470e+10,\n",
       "           1.69574812e+10, 1.69685101e+10, 1.69795390e+10, 1.69925732e+10,\n",
       "           1.70046048e+10, 1.70126258e+10, 1.70206469e+10, 1.70286679e+10,\n",
       "           1.70376916e+10, 1.70607521e+10, 1.70727836e+10, 1.70838126e+10,\n",
       "           1.70918336e+10, 1.70978494e+10, 1.71108836e+10, 1.71259230e+10,\n",
       "           1.71369520e+10, 1.71509888e+10, 1.71580072e+10, 1.71680335e+10,\n",
       "           1.71820703e+10, 1.71860808e+10, 1.71951045e+10, 1.72021229e+10,\n",
       "           1.72171624e+10, 1.72311992e+10, 1.72442334e+10, 1.72562649e+10,\n",
       "           1.72642860e+10, 1.72723070e+10, 1.72783228e+10, 1.72813307e+10,\n",
       "           1.72843386e+10, 1.72943649e+10, 1.73023859e+10, 1.73084017e+10,\n",
       "           1.73144175e+10, 1.73204332e+10, 1.73284543e+10, 1.73364753e+10,\n",
       "           1.73475043e+10, 1.73595358e+10, 1.73655516e+10, 1.73775832e+10,\n",
       "           1.73876095e+10, 1.73946279e+10, 1.73996410e+10, 1.74066594e+10,\n",
       "           1.74116726e+10, 1.74216989e+10, 1.74317252e+10, 1.74357357e+10,\n",
       "           1.74427541e+10, 1.74457620e+10, 1.74517778e+10, 1.74567909e+10,\n",
       "           1.74718304e+10, 1.74808540e+10, 1.74878725e+10, 1.74999040e+10,\n",
       "           1.75059198e+10, 1.75139408e+10, 1.75219619e+10, 1.75259724e+10,\n",
       "           1.75329908e+10, 1.75390066e+10, 1.75420145e+10, 1.75550487e+10,\n",
       "           1.75600618e+10, 1.75690855e+10, 1.75720934e+10, 1.75771065e+10,\n",
       "           1.75831223e+10, 1.75861302e+10, 1.75941512e+10, 1.75981618e+10,\n",
       "           1.76051802e+10, 1.76142038e+10, 1.76222249e+10, 1.76292433e+10,\n",
       "           1.76322512e+10, 1.76382670e+10, 1.76422775e+10, 1.76452854e+10,\n",
       "           1.76482933e+10, 1.76523038e+10, 1.76563143e+10, 1.76653380e+10,\n",
       "           1.76693485e+10, 1.76723564e+10, 1.76743616e+10, 1.76793748e+10,\n",
       "           1.76833853e+10, 1.76853906e+10, 1.76904037e+10, 1.76964195e+10,\n",
       "           1.77014326e+10, 1.77074484e+10, 1.77114589e+10, 1.77184774e+10,\n",
       "           1.77234905e+10, 1.77244931e+10, 1.77254958e+10, 1.77315115e+10,\n",
       "           1.77345194e+10, 1.77345194e+10, 1.77355221e+10, 1.77395326e+10,\n",
       "           1.77455484e+10, 1.77515641e+10, 1.77575799e+10, 1.77656010e+10,\n",
       "           1.77706141e+10, 1.77726194e+10, 1.77786352e+10, 1.77796378e+10,\n",
       "           1.77876588e+10, 1.77946772e+10, 1.78006930e+10, 1.78057062e+10,\n",
       "           1.78107193e+10, 1.78157325e+10, 1.78227509e+10, 1.78317745e+10,\n",
       "           1.78317745e+10, 1.78357851e+10, 1.78387930e+10] solMass>"
      ]
     },
     "execution_count": 8,
     "metadata": {},
     "output_type": "execute_result"
    }
   ],
   "source": [
    "BulgeMass = M31.MassEnclosed(3, R)\n",
    "BulgeMass"
   ]
  },
  {
   "cell_type": "markdown",
   "metadata": {},
   "source": [
    "d) Compute the surface mass density profile for the simulated bulge and store it as an array called `BulgeI`. Assuming M/L ~ 1 this is also the surface brightness profile in Lsun/kpc^2"
   ]
  },
  {
   "cell_type": "code",
   "execution_count": 9,
   "metadata": {},
   "outputs": [
    {
     "data": {
      "text/latex": [
       "$[55850732,~79786760,~1.179071 \\times 10^{8},~\\dots,~1608687.9,~1598268.9,~1587863.7] \\; \\mathrm{M_{\\odot}}$"
      ],
      "text/plain": [
       "<Quantity [5.58507322e+07, 7.97867603e+07, 1.17907101e+08, 1.62565524e+08,\n",
       "           2.11594488e+08, 2.56204153e+08, 2.93745542e+08, 3.17401706e+08,\n",
       "           3.17768011e+08, 3.11248152e+08, 2.91914040e+08, 2.75984620e+08,\n",
       "           2.60227587e+08, 2.42698298e+08, 2.26417095e+08, 2.11247915e+08,\n",
       "           1.96595682e+08, 1.83854306e+08, 1.72569259e+08, 1.61967123e+08,\n",
       "           1.51938597e+08, 1.42775440e+08, 1.34325309e+08, 1.26786149e+08,\n",
       "           1.19973756e+08, 1.13825964e+08, 1.08111607e+08, 1.02969699e+08,\n",
       "           9.77364096e+07, 9.29781713e+07, 8.84462391e+07, 8.43293073e+07,\n",
       "           8.06073404e+07, 7.69638550e+07, 7.34168459e+07, 7.03305517e+07,\n",
       "           6.72913027e+07, 6.44703545e+07, 6.17678568e+07, 5.93015096e+07,\n",
       "           5.69139228e+07, 5.47742442e+07, 5.26963719e+07, 5.06786049e+07,\n",
       "           4.88097969e+07, 4.70613684e+07, 4.53979081e+07, 4.38273107e+07,\n",
       "           4.23757088e+07, 4.09593313e+07, 3.95774234e+07, 3.83059069e+07,\n",
       "           3.70785464e+07, 3.59532932e+07, 3.48793427e+07, 3.38025159e+07,\n",
       "           3.27717549e+07, 3.18198328e+07, 3.09291164e+07, 3.00286338e+07,\n",
       "           2.92108314e+07, 2.84152120e+07, 2.76308647e+07, 2.68715420e+07,\n",
       "           2.61568383e+07, 2.54691208e+07, 2.48176105e+07, 2.41862245e+07,\n",
       "           2.36025359e+07, 2.30258077e+07, 2.24514024e+07, 2.19275072e+07,\n",
       "           2.14057293e+07, 2.08995853e+07, 2.04069710e+07, 1.99328766e+07,\n",
       "           1.94790581e+07, 1.90523020e+07, 1.86190415e+07, 1.82175614e+07,\n",
       "           1.78325416e+07, 1.74524639e+07, 1.70773085e+07, 1.67183567e+07,\n",
       "           1.63659486e+07, 1.60210002e+07, 1.56980372e+07, 1.53875938e+07,\n",
       "           1.50840391e+07, 1.47940414e+07, 1.45063333e+07, 1.42256853e+07,\n",
       "           1.39463087e+07, 1.36963058e+07, 1.34351180e+07, 1.31835155e+07,\n",
       "           1.29359871e+07, 1.26990881e+07, 1.24690726e+07, 1.22608315e+07,\n",
       "           1.20458376e+07, 1.18430117e+07, 1.16412410e+07, 1.14398399e+07,\n",
       "           1.12461338e+07, 1.10605071e+07, 1.08847009e+07, 1.07045869e+07,\n",
       "           1.05392931e+07, 1.03729382e+07, 1.02134306e+07, 1.00483995e+07,\n",
       "           9.89008413e+06, 9.73575288e+06, 9.57742775e+06, 9.42842803e+06,\n",
       "           9.28193555e+06, 9.14132568e+06, 9.00016742e+06, 8.86574966e+06,\n",
       "           8.73234784e+06, 8.59889426e+06, 8.46755386e+06, 8.34190920e+06,\n",
       "           8.22020651e+06, 8.09929094e+06, 7.97867603e+06, 7.86715767e+06,\n",
       "           7.75380979e+06, 7.64914255e+06, 7.54303595e+06, 7.43833870e+06,\n",
       "           7.33412133e+06, 7.22995309e+06, 7.13199513e+06, 7.03698865e+06,\n",
       "           6.94143539e+06, 6.85083546e+06, 6.76252775e+06, 6.67359259e+06,\n",
       "           6.58930042e+06, 6.50789946e+06, 6.42344093e+06, 6.33915353e+06,\n",
       "           6.25846968e+06, 6.18051692e+06, 6.10409885e+06, 6.02917484e+06,\n",
       "           5.95354926e+06, 5.88081615e+06, 5.80773151e+06, 5.74054413e+06,\n",
       "           5.67018046e+06, 5.60250008e+06, 5.53476024e+06, 5.47025845e+06,\n",
       "           5.40629831e+06, 5.34159640e+06, 5.28029859e+06, 5.22135779e+06,\n",
       "           5.16285379e+06, 5.10235177e+06, 5.04324157e+06, 4.98518927e+06,\n",
       "           4.93110020e+06, 4.87389511e+06, 4.81798856e+06, 4.76419456e+06,\n",
       "           4.71161199e+06, 4.65938115e+06, 4.60804626e+06, 4.55785644e+06,\n",
       "           4.50878237e+06, 4.46000506e+06, 4.41204501e+06, 4.36539906e+06,\n",
       "           4.31926795e+06, 4.27288773e+06, 4.22727144e+06, 4.18240227e+06,\n",
       "           4.13850743e+06, 4.09869434e+06, 4.05688123e+06, 4.01549684e+06,\n",
       "           3.97406838e+06, 3.93283508e+06, 3.89385127e+06, 3.85592364e+06,\n",
       "           3.81768513e+06, 3.78069895e+06, 3.74274507e+06, 3.70602402e+06,\n",
       "           3.67071790e+06, 3.63382096e+06, 3.59853501e+06, 3.56336278e+06,\n",
       "           3.53036215e+06, 3.49764122e+06, 3.46519656e+06, 3.43302483e+06,\n",
       "           3.40053025e+06, 3.36850926e+06, 3.33656541e+06, 3.30450932e+06,\n",
       "           3.27291841e+06, 3.24309979e+06, 3.21333082e+06, 3.18361419e+06,\n",
       "           3.15431781e+06, 3.12543375e+06, 3.09731268e+06, 3.06958186e+06,\n",
       "           3.04276164e+06, 3.01648172e+06, 2.98952231e+06, 2.96395775e+06,\n",
       "           2.93839750e+06, 2.91267676e+06, 2.88696949e+06, 2.86193790e+06,\n",
       "           2.83691341e+06, 2.81303211e+06, 2.78946412e+06, 2.76524984e+06,\n",
       "           2.74182769e+06, 2.71808605e+06, 2.69511993e+06, 2.67229779e+06,\n",
       "           2.65129209e+06, 2.62964493e+06, 2.60797338e+06, 2.58731814e+06,\n",
       "           2.56603886e+06, 2.54531947e+06, 2.52485907e+06, 2.50408031e+06,\n",
       "           2.48398775e+06, 2.46400289e+06, 2.44384580e+06, 2.42532359e+06,\n",
       "           2.40592504e+06, 2.38730859e+06, 2.36810574e+06, 2.34940489e+06,\n",
       "           2.33106275e+06, 2.31254507e+06, 2.29490414e+06, 2.27695307e+06,\n",
       "           2.25960182e+06, 2.24271009e+06, 2.22588864e+06, 2.20913739e+06,\n",
       "           2.19208231e+06, 2.17559782e+06, 2.15905857e+06, 2.14258910e+06,\n",
       "           2.12631010e+06, 2.11033847e+06, 2.09454965e+06, 2.07953096e+06,\n",
       "           2.06409489e+06, 2.04871720e+06, 2.03339792e+06, 2.01859496e+06,\n",
       "           2.00384349e+06, 1.98903085e+06, 1.97471924e+06, 1.96067654e+06,\n",
       "           1.94667743e+06, 1.93294098e+06, 1.91913661e+06, 1.90580616e+06,\n",
       "           1.89240505e+06, 1.87872336e+06, 1.86519026e+06, 1.85232732e+06,\n",
       "           1.83928921e+06, 1.82608071e+06, 1.81311648e+06, 1.80059585e+06,\n",
       "           1.78840930e+06, 1.77635002e+06, 1.76441623e+06, 1.75280401e+06,\n",
       "           1.74101636e+06, 1.72905779e+06, 1.71761079e+06, 1.70579984e+06,\n",
       "           1.69477965e+06, 1.68377577e+06, 1.67278863e+06, 1.66181868e+06,\n",
       "           1.65095925e+06, 1.64020888e+06, 1.62974944e+06, 1.61957580e+06,\n",
       "           1.60868793e+06, 1.59826886e+06, 1.58786371e+06] solMass>"
      ]
     },
     "execution_count": 9,
     "metadata": {},
     "output_type": "execute_result"
    }
   ],
   "source": [
    "BulgeI = BulgeMass / ( 4 * np.pi * R**2 )\n",
    "BulgeI"
   ]
  },
  {
   "cell_type": "markdown",
   "metadata": {},
   "source": [
    "# Part C\n",
    "\n",
    "Compute $R_e$, the half mass radius, for the bulge"
   ]
  },
  {
   "cell_type": "code",
   "execution_count": 15,
   "metadata": {},
   "outputs": [
    {
     "data": {
      "text/latex": [
       "$1.7838793 \\times 10^{10} \\; \\mathrm{M_{\\odot}}$"
      ],
      "text/plain": [
       "<Quantity 1.7838793e+10 solMass>"
      ]
     },
     "execution_count": 15,
     "metadata": {},
     "output_type": "execute_result"
    }
   ],
   "source": [
    "BulgeTotal = BulgeMass.max()\n",
    "BulgeTotal"
   ]
  },
  {
   "cell_type": "code",
   "execution_count": 11,
   "metadata": {},
   "outputs": [
    {
     "data": {
      "text/latex": [
       "$8.9193965 \\times 10^{9} \\; \\mathrm{M_{\\odot}}$"
      ],
      "text/plain": [
       "<Quantity 8.91939648e+09 solMass>"
      ]
     },
     "metadata": {},
     "output_type": "display_data"
    },
    {
     "data": {
      "text/latex": [
       "$9.0085904 \\times 10^{9} \\; \\mathrm{M_{\\odot}}$"
      ],
      "text/plain": [
       "<Quantity 9.00859044e+09 solMass>"
      ]
     },
     "metadata": {},
     "output_type": "display_data"
    }
   ],
   "source": [
    "Low = BulgeTotal/2\n",
    "High = BulgeTotal / 2 + 0.01 * BulgeTotal / 2 \n",
    "display(Low, High)"
   ]
  },
  {
   "cell_type": "code",
   "execution_count": 12,
   "metadata": {},
   "outputs": [
    {
     "data": {
      "text/latex": [
       "$[8.9294228 \\times 10^{9}] \\; \\mathrm{M_{\\odot}}$"
      ],
      "text/plain": [
       "<Quantity [8.92942278e+09] solMass>"
      ]
     },
     "execution_count": 12,
     "metadata": {},
     "output_type": "execute_result"
    }
   ],
   "source": [
    "index = np.where((Low < BulgeMass) & (BulgeMass < High))\n",
    "BulgeMass[index]"
   ]
  },
  {
   "cell_type": "code",
   "execution_count": 13,
   "metadata": {},
   "outputs": [],
   "source": [
    "Re = R[index]"
   ]
  },
  {
   "cell_type": "markdown",
   "metadata": {},
   "source": [
    "# Part D\n",
    "\n",
    "a) Plot the surface density profile of the simulated bulge\n",
    "\n",
    "b) Plot the Sersic profile, assuming a de Vaucouleurs Profile.\n",
    "\n",
    "c) If the profiles don't match, try changing either $R_e$ or $n$"
   ]
  },
  {
   "cell_type": "code",
   "execution_count": 14,
   "metadata": {},
   "outputs": [
    {
     "data": {
      "image/png": "[encoded data removed]",
      "text/plain": [
       "<Figure size 720x720 with 1 Axes>"
      ]
     },
     "metadata": {
      "needs_background": "light"
     },
     "output_type": "display_data"
    }
   ],
   "source": [
    "# Plot the Bulge density profile vs \n",
    "# the Sersic profile\n",
    "####################################\n",
    "\n",
    "\n",
    "fig = plt.figure(figsize=(10,10))\n",
    "ax = plt.subplot(111)\n",
    "\n",
    "\n",
    "# plot the bulge luminosity density as a proxy for surface brighntess\n",
    "plt.semilogy(R,BulgeI, color='black',linewidth=3, label='Bulge Density')\n",
    "\n",
    "\n",
    "# YOU ADD HERE: Sersic fit to the surface brightness Sersic fit\n",
    "# Sersic \n",
    "for n in np.linspace(5, 6, 6):\n",
    "    plt.semilogy(R, SersicE(R, Re, n, BulgeTotal), lw=3., label=f'Sersic n={n}')\n",
    "\n",
    "\n",
    "\n",
    "#adjust tick label font size\n",
    "label_size = 22\n",
    "matplotlib.rcParams['xtick.labelsize'] = label_size \n",
    "matplotlib.rcParams['ytick.labelsize'] = label_size\n",
    "\n",
    "\n",
    "# Add axis labels\n",
    "plt.xlabel('Radius (kpc)', fontsize=22)\n",
    "plt.ylabel('Log(I)  $L_\\odot/kpc^2$', fontsize=22)\n",
    "\n",
    "\n",
    "# add a legend with some customizations.\n",
    "legend = ax.legend(loc='upper right',fontsize='x-large')"
   ]
  },
  {
   "cell_type": "code",
   "execution_count": null,
   "metadata": {},
   "outputs": [],
   "source": []
  },
  {
   "cell_type": "code",
   "execution_count": null,
   "metadata": {},
   "outputs": [],
   "source": []
  }
 ],
 "metadata": {
  "kernelspec": {
   "display_name": "Python 3",
   "language": "python",
   "name": "python3"
  },
  "language_info": {
   "codemirror_mode": {
    "name": "ipython",
    "version": 3
   },
   "file_extension": ".py",
   "mimetype": "text/x-python",
   "name": "python",
   "nbconvert_exporter": "python",
   "pygments_lexer": "ipython3",
   "version": "3.7.6"
  }
 },
 "nbformat": 4,
 "nbformat_minor": 4
}
