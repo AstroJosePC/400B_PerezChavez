{
 "cells": [
  {
   "cell_type": "markdown",
   "metadata": {},
   "source": [
    "# Lab 8 : Star Formation "
   ]
  },
  {
   "cell_type": "code",
   "execution_count": 1,
   "metadata": {},
   "outputs": [],
   "source": [
    "import numpy as np\n",
    "from astropy import units as u\n",
    "from astropy import constants as const\n",
    "\n",
    "import matplotlib\n",
    "import matplotlib.pyplot as plt\n",
    "from matplotlib.colors import LogNorm\n",
    "%matplotlib inline"
   ]
  },
  {
   "cell_type": "markdown",
   "metadata": {},
   "source": [
    "# Part A\n",
    "\n",
    "Create a function that returns the SFR for a given luminosity (NUV, FUV, TIR, Halpha)\n",
    "\n",
    "$Log( {\\rm SFR} (M_\\odot/year)) = Log(Lx (erg/s)) - Log(Cx)$ \n",
    "\n",
    "Including corrections for dust absorption \n",
    "\n",
    "Kennicutt & Evans 2012 ARA&A Equation 12 and Table 1, 2"
   ]
  },
  {
   "cell_type": "code",
   "execution_count": 34,
   "metadata": {},
   "outputs": [],
   "source": [
    "def StarFormationRate(lum, ltype, TIR=0):\n",
    "    \"\"\"\n",
    "    Get the star formation rate given the star formation rate given the luminosity of the galaxy\n",
    "    following Kennicutt & Evans 2012 ARA&A Equation 12.\n",
    "    \n",
    "    :param lum: luminoosity of the galaxy in erg/s\n",
    "    :param ltype: string that lists the wavelength; FUV, NUV, TIR, Halpha\n",
    "    :param tir: total infrared luminosity \n",
    "    :return: Log of the SFR (Msun/year)\n",
    "    \"\"\"\n",
    "    if ltype == 'FUV':\n",
    "        # Calibration from L to SRF from Table 1 (K&E 2012)\n",
    "        logCx = 43.35 \n",
    "        # Correction for dust absorption from Table 2 (K&E 2012)\n",
    "        TIRc = 0.46 \n",
    "    elif ltype == 'NUV':\n",
    "        logCx = 43.17\n",
    "        TIRc = 0.27\n",
    "    elif ltype == 'Halpha':\n",
    "        logCx = 41.27\n",
    "        TIRc = 0.0024\n",
    "    elif ltype == 'TIR':\n",
    "        logCx = 43.41\n",
    "        TIRc = 0\n",
    "    else:\n",
    "        print('Missing Wavelength: FUV, NUV, TIR, Halpha')\n",
    "    \n",
    "    # Correct the lumunisity for dust\n",
    "    lnew = lum + TIRc * TIR\n",
    "    return np.log10(lnew) - logCx"
   ]
  },
  {
   "cell_type": "markdown",
   "metadata": {},
   "source": [
    "Let's try to reproduce SFRs derived for galaxies from UV luminosities measured with Galex. \n",
    "\n",
    "Using Table 1 from Lee et al. 2009\n",
    "https://ui.adsabs.harvard.edu/abs/2009ApJ...706..599L/abstract\n",
    "\n",
    "We will use galaxy properties from NED:\n",
    "https://ned.ipac.caltech.edu/"
   ]
  },
  {
   "cell_type": "code",
   "execution_count": 7,
   "metadata": {},
   "outputs": [],
   "source": [
    "Lsun2Ergs = const.L_sun.to('erg/s').value"
   ]
  },
  {
   "cell_type": "code",
   "execution_count": 8,
   "metadata": {},
   "outputs": [
    {
     "data": {
      "text/plain": [
       "-2.3373504191027266"
      ]
     },
     "execution_count": 8,
     "metadata": {},
     "output_type": "execute_result"
    }
   ],
   "source": [
    "#  WLM Dwarf Irregular Galaxy\n",
    "# From Lee et al. 2009 WLM Galaxy log(SRF) derived from UV is -2.21\n",
    "# From NEDL WLM NUV Luminosity (Galex) 1.7e7 Lsun\n",
    "# From NED: WLM FIR Luminosity (IRAC) 2.48e06  Lsun\n",
    "\n",
    "NUV_WLM = 1.71e7 * Lsun2Ergs\n",
    "TIR_WLM = 2.48e6 * Lsun2Ergs\n",
    "\n",
    "StarFormationRate(NUV_WLM, 'NUV', TIR_WLM)"
   ]
  },
  {
   "cell_type": "code",
   "execution_count": 11,
   "metadata": {},
   "outputs": [
    {
     "data": {
      "text/plain": [
       "-0.8055527449424105"
      ]
     },
     "execution_count": 11,
     "metadata": {},
     "output_type": "execute_result"
    }
   ],
   "source": [
    "#  N24 Sc galaxy\n",
    "# From Lee et al. 2009 NGC 24 Galaxy log(SRF) derived from UV is -0.7\n",
    "# From NEDL NGC 24 NUV Luminosity (Galex) 2.96E+08 Lsun\n",
    "# From NED: NGC 24 FIR Luminosity (MIPS) 3.09E+08  Lsun\n",
    "# From NED: NGC 24 NIR Luminosity (2MASS) 8.34E+08  Lsun\n",
    "\n",
    "NUV_N24 = 2.96e8 * Lsun2Ergs\n",
    "TIR_N24 = 3.09e8 * Lsun2Ergs + 8.34e8*Lsun2Ergs\n",
    "StarFormationRate(NUV_N24, 'NUV', TIR_N24)"
   ]
  },
  {
   "cell_type": "markdown",
   "metadata": {},
   "source": [
    "# Part B Star formation main sequence\n",
    "\n",
    "Write a function that returns the average SFR of a galaxy at a given redshift. \n",
    "\n",
    "What is the average SFR of a MW mass galaxy today? at z=1?\n",
    "\n",
    "Plot the SFR main sequence for a few different redshifts.\n",
    "\n",
    "\n",
    "From Whitaker 2012:\n",
    "\n",
    "log(SFR) = $\\alpha(z)({\\rm log}M_\\ast - 10.5) + \\beta(z)$\n",
    "\n",
    "$\\alpha(z) = 0.7 - 0.13z$\n",
    "\n",
    "$\\beta(z) = 0.38 + 1.14z - 0.19z^2$"
   ]
  },
  {
   "cell_type": "code",
   "execution_count": 19,
   "metadata": {},
   "outputs": [],
   "source": [
    "def SFRMainSequence(Mstar, z):\n",
    "    \"\"\"\n",
    "    Average SFR of a galaxy as a function of mass, and redshift\n",
    "    :param Mstar: stellar mass of the galaxy in Msun\n",
    "    :param z: redshift\n",
    "    :return: log(SFR (Msun/year))\n",
    "    \"\"\"\n",
    "    alpha = 0.7 - 0.13*z\n",
    "    beta = 0.38 + 1.14*z - 0.19*z**2\n",
    "    logSRF = alpha*(np.log10(Mstar) - 10.5) + beta\n",
    "    return logSRF\n",
    "    "
   ]
  },
  {
   "cell_type": "code",
   "execution_count": 20,
   "metadata": {},
   "outputs": [
    {
     "data": {
      "text/plain": [
       "3.7558295562247412"
      ]
     },
     "execution_count": 20,
     "metadata": {},
     "output_type": "execute_result"
    }
   ],
   "source": [
    "# MW at z=0; the actual starformation of MW is only 1 Msun / year\n",
    "10**SFRMainSequence(6e10, 0)"
   ]
  },
  {
   "cell_type": "code",
   "execution_count": 22,
   "metadata": {},
   "outputs": [
    {
     "data": {
      "text/plain": [
       "(30.799680595160783, 89.13889068294495)"
      ]
     },
     "execution_count": 22,
     "metadata": {},
     "output_type": "execute_result"
    }
   ],
   "source": [
    "# MW at z = 1,4\n",
    "10**SFRMainSequence(6e10, 1), 10**SFRMainSequence(6e10, 4)"
   ]
  },
  {
   "cell_type": "code",
   "execution_count": 27,
   "metadata": {},
   "outputs": [],
   "source": [
    "# create an array of stellar masses\n",
    "Mass = np.linspace(1e9, 1e12)"
   ]
  },
  {
   "cell_type": "code",
   "execution_count": 32,
   "metadata": {},
   "outputs": [
    {
     "data": {
      "image/png": "[encoded data removed]",
      "text/plain": [
       "<Figure size 800x800 with 1 Axes>"
      ]
     },
     "metadata": {
      "needs_background": "light"
     },
     "output_type": "display_data"
    }
   ],
   "source": [
    "\n",
    "fig = plt.figure(figsize=(8,8), dpi=100)\n",
    "ax = plt.subplot(111)\n",
    "\n",
    "# add log log plots\n",
    "plt.loglog(Mass, 10**SFRMainSequence(Mass, 0), color='blue', lw=3, label='z=0')\n",
    "plt.loglog(Mass, 10**SFRMainSequence(Mass, 1), color='red', lw=3, label='z=1')\n",
    "plt.loglog(Mass, 10**SFRMainSequence(Mass, 2), color='green', lw=3, label='z=2')\n",
    "plt.loglog(Mass, 10**SFRMainSequence(Mass, 3), color='purple', lw=3, label='z=3')\n",
    "\n",
    "# Add axis labels\n",
    "plt.xlabel('Log (Mstar (M$_\\odot$))', fontsize=12)\n",
    "plt.ylabel('Log(SFR (M$_\\odot$/year))', fontsize=12)\n",
    "\n",
    "\n",
    "#adjust tick label font size\n",
    "label_size = 12\n",
    "matplotlib.rcParams['xtick.labelsize'] = label_size \n",
    "matplotlib.rcParams['ytick.labelsize'] = label_size\n",
    "\n",
    "# add a legend with some customizations.\n",
    "legend = ax.legend(loc='upper left',fontsize='x-large')\n"
   ]
  },
  {
   "cell_type": "markdown",
   "metadata": {},
   "source": [
    "# Part C  Starbursts\n",
    "\n",
    "What are the star formation rates for :\n",
    "\n",
    "LIRG: $10^{11}$ L$_\\odot$\n",
    "\n",
    "ULIRG: $10^{12} $ L$_\\odot$\n",
    "\n",
    "HLIRG: $10^{13} $ L$_\\odot$"
   ]
  },
  {
   "cell_type": "code",
   "execution_count": 36,
   "metadata": {},
   "outputs": [
    {
     "data": {
      "text/plain": [
       "1.4892648150381245"
      ]
     },
     "execution_count": 36,
     "metadata": {},
     "output_type": "execute_result"
    }
   ],
   "source": [
    "# normal galaxies \n",
    "\n",
    "TIR_normal = 1e10 * Lsun2Ergs\n",
    "10**StarFormationRate(TIR_normal, 'TIR')"
   ]
  },
  {
   "cell_type": "code",
   "execution_count": 37,
   "metadata": {},
   "outputs": [
    {
     "data": {
      "text/plain": [
       "14.892648150381245"
      ]
     },
     "execution_count": 37,
     "metadata": {},
     "output_type": "execute_result"
    }
   ],
   "source": [
    "# LIRGs  \n",
    "TIR_LIR = 1e11 * Lsun2Ergs\n",
    "10**StarFormationRate(TIR_LIR, 'TIR')"
   ]
  },
  {
   "cell_type": "code",
   "execution_count": 38,
   "metadata": {},
   "outputs": [
    {
     "data": {
      "text/plain": [
       "148.92648150381245"
      ]
     },
     "execution_count": 38,
     "metadata": {},
     "output_type": "execute_result"
    }
   ],
   "source": [
    "# ULIRGs\n",
    "TIR_ULIR = 1e12 * Lsun2Ergs\n",
    "10**StarFormationRate(TIR_ULIR, 'TIR')"
   ]
  },
  {
   "cell_type": "code",
   "execution_count": 39,
   "metadata": {},
   "outputs": [
    {
     "data": {
      "text/plain": [
       "1489.2648150381244"
      ]
     },
     "execution_count": 39,
     "metadata": {},
     "output_type": "execute_result"
    }
   ],
   "source": [
    "# HLIRGs\n",
    "TIR_HLIR = 1e13 * Lsun2Ergs\n",
    "10**StarFormationRate(TIR_HLIR, 'TIR')"
   ]
  },
  {
   "cell_type": "markdown",
   "metadata": {},
   "source": [
    "## "
   ]
  }
 ],
 "metadata": {
  "kernelspec": {
   "display_name": "Python 3",
   "language": "python",
   "name": "python3"
  },
  "language_info": {
   "codemirror_mode": {
    "name": "ipython",
    "version": 3
   },
   "file_extension": ".py",
   "mimetype": "text/x-python",
   "name": "python",
   "nbconvert_exporter": "python",
   "pygments_lexer": "ipython3",
   "version": "3.7.6"
  }
 },
 "nbformat": 4,
 "nbformat_minor": 4
}
