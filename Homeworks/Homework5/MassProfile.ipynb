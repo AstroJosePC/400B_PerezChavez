{
 "cells": [
  {
   "cell_type": "code",
   "execution_count": 7,
   "metadata": {},
   "outputs": [],
   "source": [
    "# Add path to other HW folders / Modular Design\n",
    "import sys\n",
    "sys.path.append(\"../\")\n",
    "\n",
    "# Import modules\n",
    "import numpy as np\n",
    "import astropy.units as u\n",
    "from astropy.constants import G\n",
    "import astropy.table as tbl\n",
    "from Homework2.ReadFile import Read\n",
    "from Homework4.CenterOfMass import CenterOfMass"
   ]
  },
  {
   "cell_type": "markdown",
   "metadata": {},
   "source": [
    "##  Mass Profile Class"
   ]
  },
  {
   "cell_type": "code",
   "execution_count": 8,
   "metadata": {},
   "outputs": [],
   "source": [
    "class MassProfile:\n",
    "    \"\"\"\n",
    "    :param galaxy: a Galaxy name, e.g. \"MW\", \"M31\" or \"M33\"\n",
    "    :param snap: snapshot number, e.g. 0, 1, etc\n",
    "    \"\"\"\n",
    "    \n",
    "    def __init__(self, galaxy, snap):\n",
    "        \"\"\"\n",
    "        \n",
    "        \"\"\"\n",
    "        \n",
    "        # Reconstruct the filename\n",
    "        # Format: 'GalaxyName_SnapNum.txt'\n",
    "        # SnapNum - three digits zero-padding integer\n",
    "        self.filename= f'{galaxy:s}_{snap:03d}.txt'\n",
    "        self.gname = galaxy[-3:].upper()\n",
    "        self.snap = snap\n",
    "        \n",
    "    def MassEnclosed(self, ptype, r, delta=0.1):\n",
    "        \"\"\"\n",
    "        compute the mass enclosed within a given radius of the COM \n",
    "        position for a specified component of the galaxy.\n",
    "        \n",
    "        :param ptype:\n",
    "        :param r: array of radii  (kpc)\n",
    "        :param delta: tolerance for COM iterative estimation\n",
    "        :return:\n",
    "        \"\"\"\n",
    "        # Get CenterOfMass object, and compute its position\n",
    "        com = CenterOfMass(self.filename, ptype)\n",
    "        comp = com.COM_P(delta).value\n",
    "        \n",
    "        # Make sure input radii is an array, could be a list or scalar\n",
    "        r_array = np.atleast_1d(r)\n",
    "        \n",
    "        # Switch particle coords to COM reference frame\n",
    "        xNew = com.x - comp[0]\n",
    "        yNew = com.y - comp[1]\n",
    "        zNew = com.z - comp[2]\n",
    "        # Calculate each particle's radial distance to COM\n",
    "        rNew = np.sqrt(xNew**2 + yNew**2 + zNew**2)\n",
    "        \n",
    "        # Initialize array to store enclosed masses; same shape as radii array\n",
    "        rMasses = np.zeros(r_array.size)\n",
    "        \n",
    "        # Loop over each radius\n",
    "        for i in range(r_array.size):\n",
    "            # select those within current radius r[i], and sum masses\n",
    "            rMasses[i] = com.m[rNew < r_array[i]].sum()\n",
    "        \n",
    "        return rMasses * 1e10 * u.Msun\n",
    "\n",
    "    def MassEnclosedTotal(r, delta=0.1):\n",
    "        ptypes = [1, 2, 3] if self.gname != 'M33' else [1, 2]\n",
    "        rMasses = np.array([self.MassEnclosed(0, r, delta) for i in ptypes])\n",
    "        rTotalMasses = rMasses.sum(axis=1)\n",
    "        return rTotalMasses\n",
    "\n",
    "    def CircularVelocity(self, ptype, r, delta=0.1):\n",
    "        Mass = MassEnclosed(ptype, r, delta)\n",
    "        return np.sqrt(G * Mass / r).to(u.km/u.s)\n",
    "\n",
    "    def CircularVelocityTotal(r):\n",
    "        Mass = MassEnclosedTotal(r, delta)\n",
    "        return np.sqrt(G * Mass / r).to(u.km/u.s)\n",
    "\n",
    "\n",
    "def HernquistM(r, a=60, Mhalo=1.97):\n",
    "    \"\"\"\n",
    "    Function that returns the Hernquist 1990 mass profile\n",
    "    \n",
    "    :param r: Distance from the center of the galaxy (kpc)\n",
    "    :param a: the scale radius (kpc)\n",
    "    :param Mhalo: the total dark matter halo mass (10^12 Msun)\n",
    "    :return: total dark matter halo mass within r (Msun)\n",
    "    \"\"\"\n",
    "    return np.round(Mhalo * r**2 / (a + r)**2, 2) * u.Msun\n",
    "        \n",
    "    \n",
    "def HernquistVCirc(r, a=60, Mhalo=1.97):\n",
    "    Mass = HernquistM(r, a, Mhalo)\n",
    "    return np.sqrt(G * Mass / (r * u.kpc)).to(u.km/u.s)\n"
   ]
  },
  {
   "cell_type": "code",
   "execution_count": 9,
   "metadata": {},
   "outputs": [],
   "source": [
    "mw_str = '../../SampleData/MW'\n",
    "m31_str = '../../SampleData/M31'\n",
    "m33_str = '../../SampleData/M33'"
   ]
  },
  {
   "cell_type": "code",
   "execution_count": 10,
   "metadata": {},
   "outputs": [],
   "source": [
    "MW = MassProfile(mw_str, 0)"
   ]
  },
  {
   "cell_type": "code",
   "execution_count": 11,
   "metadata": {},
   "outputs": [
    {
     "data": {
      "text/plain": [
       "array([ 0.25,  1.75,  3.25,  4.75,  6.25,  7.75,  9.25, 10.75, 12.25,\n",
       "       13.75, 15.25, 16.75, 18.25, 19.75, 21.25, 22.75, 24.25, 25.75,\n",
       "       27.25, 28.75, 30.25])"
      ]
     },
     "execution_count": 11,
     "metadata": {},
     "output_type": "execute_result"
    }
   ],
   "source": [
    "r = np.arange(0.25, 30.5, 1.5)\n",
    "r"
   ]
  },
  {
   "cell_type": "code",
   "execution_count": 12,
   "metadata": {},
   "outputs": [
    {
     "data": {
      "text/latex": [
       "$[0,~1.184955 \\times 10^{9},~4.7793185 \\times 10^{9},~9.1241535 \\times 10^{9},~1.5759901 \\times 10^{10},~2.36991 \\times 10^{10},~3.1401307 \\times 10^{10},~4.0880948 \\times 10^{10},~5.292799 \\times 10^{10},~6.371108 \\times 10^{10},~7.5995114 \\times 10^{10},~8.8279148 \\times 10^{10},~1.0234061 \\times 10^{11},~1.1573060 \\times 10^{11},~1.2987107 \\times 10^{11},~1.4420902 \\times 10^{11},~1.5937645 \\times 10^{11},~1.7312193 \\times 10^{11},~1.8603794 \\times 10^{11},~1.9926993 \\times 10^{11},~2.1262043 \\times 10^{11}] \\; \\mathrm{M_{\\odot}}$"
      ],
      "text/plain": [
       "<Quantity [0.00000000e+00, 1.18495500e+09, 4.77931850e+09, 9.12415350e+09,\n",
       "           1.57599015e+10, 2.36991000e+10, 3.14013075e+10, 4.08809475e+10,\n",
       "           5.29279900e+10, 6.37110805e+10, 7.59951140e+10, 8.82791475e+10,\n",
       "           1.02340614e+11, 1.15730605e+11, 1.29871068e+11, 1.44209024e+11,\n",
       "           1.59376447e+11, 1.73121926e+11, 1.86037935e+11, 1.99269932e+11,\n",
       "           2.12620425e+11] solMass>"
      ]
     },
     "execution_count": 12,
     "metadata": {},
     "output_type": "execute_result"
    }
   ],
   "source": [
    "MW.MassEnclosed(1, r, 0.1)"
   ]
  },
  {
   "cell_type": "code",
   "execution_count": null,
   "metadata": {},
   "outputs": [],
   "source": []
  }
 ],
 "metadata": {
  "kernelspec": {
   "display_name": "Python 3",
   "language": "python",
   "name": "python3"
  },
  "language_info": {
   "codemirror_mode": {
    "name": "ipython",
    "version": 3
   },
   "file_extension": ".py",
   "mimetype": "text/x-python",
   "name": "python",
   "nbconvert_exporter": "python",
   "pygments_lexer": "ipython3",
   "version": "3.7.6"
  }
 },
 "nbformat": 4,
 "nbformat_minor": 4
}
