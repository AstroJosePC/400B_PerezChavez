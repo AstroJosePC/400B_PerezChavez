{
 "cells": [
  {
   "cell_type": "code",
   "execution_count": 3,
   "metadata": {},
   "outputs": [],
   "source": [
    "import numpy as np\n",
    "import astropy.units as u"
   ]
  },
  {
   "cell_type": "code",
   "execution_count": 4,
   "metadata": {},
   "outputs": [],
   "source": [
    "def Read(filename):\n",
    "    # Read file in read mode\n",
    "    file = open(filename, 'r')\n",
    "    \n",
    "    # Read time snapshot, split to isolate value, and attach unit\n",
    "    line1 = file.readline()\n",
    "    label, value = line1.split()\n",
    "    time = float(value) * 10.0 * u.Myr\n",
    "    \n",
    "    # Read number of particles, split to isolate value\n",
    "    line2 = file.readline()\n",
    "    label, value = line2.split()\n",
    "    total = float(value)\n",
    "    file.close()\n",
    "    \n",
    "    \n",
    "    # Get data as numpy array with column labels\n",
    "    data = np.genfromtxt(filename, dtype=None, names=True, skip_header=3)\n",
    "    \n",
    "    # Return values\n",
    "    return time, total, data    "
   ]
  },
  {
   "cell_type": "code",
   "execution_count": 7,
   "metadata": {},
   "outputs": [
    {
     "name": "stdout",
     "output_type": "stream",
     "text": [
      "Testing function\n",
      "\n",
      "Reading file...\n",
      "Time:\t0.0 Myr\n",
      "Total:\t135000.0\n"
     ]
    }
   ],
   "source": [
    "# Testing function\n",
    "print('Testing function\\n')\n",
    "\n",
    "print('Reading file...')\n",
    "time, total, data = Read('MW_000.txt')\n",
    "\n",
    "print(f'Time:\\t{time}')\n",
    "print(f'Total:\\t{total}')"
   ]
  },
  {
   "cell_type": "code",
   "execution_count": 6,
   "metadata": {},
   "outputs": [
    {
     "data": {
      "text/plain": [
       "(-2.51725, 19.1588)"
      ]
     },
     "execution_count": 6,
     "metadata": {},
     "output_type": "execute_result"
    }
   ],
   "source": [
    "data[['x', 'y']][0]"
   ]
  },
  {
   "cell_type": "code",
   "execution_count": null,
   "metadata": {},
   "outputs": [],
   "source": []
  }
 ],
 "metadata": {
  "kernelspec": {
   "display_name": "Python 3",
   "language": "python",
   "name": "python3"
  },
  "language_info": {
   "codemirror_mode": {
    "name": "ipython",
    "version": 3
   },
   "file_extension": ".py",
   "mimetype": "text/x-python",
   "name": "python",
   "nbconvert_exporter": "python",
   "pygments_lexer": "ipython3",
   "version": "3.7.4"
  }
 },
 "nbformat": 4,
 "nbformat_minor": 2
}
