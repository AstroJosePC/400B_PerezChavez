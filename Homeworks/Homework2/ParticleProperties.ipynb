{
 "cells": [
  {
   "cell_type": "code",
   "execution_count": 3,
   "metadata": {},
   "outputs": [],
   "source": [
    "from ReadFile import Read\n",
    "import numpy as np\n",
    "import astropy.units as u"
   ]
  },
  {
   "cell_type": "code",
   "execution_count": 4,
   "metadata": {},
   "outputs": [],
   "source": [
    "def ParticleInfo(filename, ptype, pnum):\n",
    "    \"\"\"\n",
    "    Get a particle's distance, velocity, and mass.\n",
    "    ptype can be integer (1, 2, 3) or string (halo, disk, bulge).\n",
    "    \n",
    "    :param filename: file path to data file\n",
    "    :param ptype: particle type; halo (1), disk (2), or bulge (3) \n",
    "    :param pnum: particle number; index starts at 1.\n",
    "    :return: distance, velocity, mass\n",
    "    \"\"\"\n",
    "    # If ptype is string, then reassign according to indexing rule\n",
    "    if isinstance(ptype, str):\n",
    "        if ptype.lower()=='halo':\n",
    "            ptype = 1\n",
    "        elif ptype.lower()=='disk':\n",
    "            ptype = 2\n",
    "        elif ptype.lower()=='bulge':\n",
    "            ptype = 3\n",
    "        else:\n",
    "            raise ValueError('Wrong particle type')\n",
    "    \n",
    "    # Read data file, and index corresponding particle number/type\n",
    "    time, total, data = Read(filename)\n",
    "    particle = data[data['type'] == ptype][pnum-1]\n",
    "    \n",
    "    # Calculate the rounded distance/velocity vector magnitudes, and get mass (w/ Msun units)\n",
    "    distance = np.round(np.sqrt(particle[2]**2 + particle[3]**2 + particle[4]**2), 3)\n",
    "    velocity = np.round(np.sqrt(particle[5]**2 + particle[6]**2 + particle[7]**2), 3)\n",
    "    mass = particle[1] * 1e10 * u.M_sun\n",
    "    \n",
    "    # Return calculated values with units\n",
    "    return distance * u.kpc, velocity * u.km/u.s, mass"
   ]
  },
  {
   "cell_type": "code",
   "execution_count": 6,
   "metadata": {},
   "outputs": [
    {
     "name": "stdout",
     "output_type": "stream",
     "text": [
      "Testing function\n",
      "\n",
      "Particle type:\tdisk\n",
      "Particle #:\t100\n",
      "3D Distance:\t4.245 kpc\n",
      "3D Velocity:\t312.135 km / s\n",
      "Mass:\t\t1000000.0 solMass\n"
     ]
    }
   ],
   "source": [
    "print('Testing function\\n')\n",
    "\n",
    "# parameters; particle type/number\n",
    "ptype = 'disk'\n",
    "pnum = 100\n",
    "\n",
    "# get particle info\n",
    "d, v, m = ParticleInfo('MW_000.txt', ptype, pnum)\n",
    "\n",
    "# Print stuff\n",
    "print(f'Particle type:\\t{ptype}')\n",
    "print(f'Particle #:\\t{pnum}')\n",
    "print(f'3D Distance:\\t{d}')\n",
    "print(f'3D Velocity:\\t{v}')\n",
    "print(f'Mass:\\t\\t{m}')"
   ]
  },
  {
   "cell_type": "code",
   "execution_count": 8,
   "metadata": {},
   "outputs": [
    {
     "name": "stdout",
     "output_type": "stream",
     "text": [
      "3D distance in light years:\t13845.338 lyr\n"
     ]
    }
   ],
   "source": [
    "print(f'3D distance in light years:\\t{d.to(u.lightyear):.3f}')"
   ]
  }
 ],
 "metadata": {
  "kernelspec": {
   "display_name": "Python 3",
   "language": "python",
   "name": "python3"
  },
  "language_info": {
   "codemirror_mode": {
    "name": "ipython",
    "version": 3
   },
   "file_extension": ".py",
   "mimetype": "text/x-python",
   "name": "python",
   "nbconvert_exporter": "python",
   "pygments_lexer": "ipython3",
   "version": "3.7.6"
  }
 },
 "nbformat": 4,
 "nbformat_minor": 4
}
