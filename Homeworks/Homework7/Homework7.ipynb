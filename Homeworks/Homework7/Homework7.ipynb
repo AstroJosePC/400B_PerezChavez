{
 "cells": [
  {
   "cell_type": "markdown",
   "metadata": {
    "ExecuteTime": {
     "end_time": "2020-01-26T08:48:31.926693Z",
     "start_time": "2020-01-26T08:48:31.923116Z"
    }
   },
   "source": [
    "# Homework 7\n",
    "\n",
    "Tempalate by: Rixin Li & G . Besla\n",
    "Completed by: Jose Perez Chavez"
   ]
  },
  {
   "cell_type": "code",
   "execution_count": 125,
   "metadata": {
    "ExecuteTime": {
     "end_time": "2020-03-16T03:13:30.748911Z",
     "start_time": "2020-03-16T03:13:30.745053Z"
    }
   },
   "outputs": [],
   "source": [
    "# import necessary modules\n",
    "# numpy provides powerful multi-dimensional arrays to hold and manipulate data\n",
    "import numpy as np\n",
    "# matplotlib provides powerful functions for plotting figures\n",
    "import matplotlib.pyplot as plt\n",
    "import matplotlib\n",
    "# astropy provides unit system and constants for astronomical calculations\n",
    "import astropy.units as u\n",
    "import astropy.constants as const\n",
    "# import Latex module so we can display the results with symbols\n",
    "from IPython.display import Latex\n",
    "%matplotlib inline\n",
    "\n",
    "# Add path to other HW folders / Modular Design\n",
    "import sys\n",
    "sys.path.append(\"../\")\n",
    "from Homework4.CenterOfMass import CenterOfMass\n",
    "from Homework3.GalaxyMass import GalaxyMass as ComponentMass\n",
    "\n",
    "\n",
    "# Setup Matplotlib preferences\n",
    "# adjust tick label font size\n",
    "label_size = 22\n",
    "matplotlib.rcParams['xtick.labelsize'] = label_size \n",
    "matplotlib.rcParams['ytick.labelsize'] = label_size"
   ]
  },
  {
   "cell_type": "markdown",
   "metadata": {},
   "source": [
    "# M33AnalyticOrbit"
   ]
  },
  {
   "cell_type": "code",
   "execution_count": 114,
   "metadata": {
    "ExecuteTime": {
     "end_time": "2020-03-16T03:08:14.820296Z",
     "start_time": "2020-03-16T03:08:14.800707Z"
    }
   },
   "outputs": [],
   "source": [
    "class M33AnalyticOrbit:\n",
    "    \"\"\"\n",
    "    Calculate the analytical orbit of M33 around M31\n",
    "    \n",
    "    :param filename: filepath to save output within data folder\n",
    "    :param data_path: data folder where input/output files reside\n",
    "    :param delta: center of mass tolerance parameter\n",
    "    \"\"\"\n",
    "    \n",
    "    def __init__(self, filename, data_path='../../Data', delta=0.1):\n",
    "        ### get the gravitational constant (the value is 4.498502151575286e-06)\n",
    "        self.G = const.G.to(u.kpc**3/u.Msun/u.Gyr**2).value\n",
    "        \n",
    "        ### **** store the output file name\n",
    "        self.filename = f'{data_path}/{filename}'\n",
    "        \n",
    "        ### get the current pos/vel of M33 \n",
    "        # **** create an instance of the  CenterOfMass class for M33\n",
    "        M33_COM = CenterOfMass(f'{data_path}/M33_VLowRes/M33_000.txt', 2)\n",
    "\n",
    "        # **** store the position VECTOR of the M33 COM (.value to get rid of units)\n",
    "        M33_COMP = M33_COM.COM_P(delta)\n",
    "        \n",
    "        # **** store the velocity VECTOR of the M33 COM (.value to get rid of units)\n",
    "        M33_COMV = M33_COM.COM_V(*M33_COMP)\n",
    "        \n",
    "        ### get the current pos/vel of M31 \n",
    "        # **** create an instance of the  CenterOfMass class for M31 \n",
    "        M31_COM = CenterOfMass(f'{data_path}/M31_VLowRes/M31_000.txt', 2)\n",
    "        \n",
    "        # **** store the position VECTOR of the M31 COM (.value to get rid of units)\n",
    "        M31_COMP = M31_COM.COM_P(delta)\n",
    "        \n",
    "        # **** store the velocity VECTOR of the M31 COM (.value to get rid of units)\n",
    "        M31_COMV = M31_COM.COM_V(*M31_COMP)\n",
    "        \n",
    "        ### store the DIFFERENCE between the vectors posM33 - posM31\n",
    "        # **** create two VECTORs self.r0 and self.v0 and have them be the\n",
    "        # relative position and velocity VECTORS of M33\n",
    "        self.r0 = (M33_COMP - M31_COMP).value\n",
    "        self.v0 = (M33_COMV - M31_COMV).value\n",
    "        \n",
    "        ### get the mass of each component in M31 \n",
    "        ### disk\n",
    "        # **** self.rdisk = scale length (no units)\n",
    "        self.rdisk = 5.0\n",
    "        \n",
    "        # **** self.Mdisk set with ComponentMass function. Remember to *1e12 to get the right units. Use the right ptype\n",
    "        self.Mdisk = ComponentMass(M31_COM.data, 2) * 1e12\n",
    "        \n",
    "        ### bulge\n",
    "        # **** self.rbulge = set scale length (no units)\n",
    "        self.rbulge = 1.0\n",
    "\n",
    "        # **** self.Mbulge  set with ComponentMass function. Remember to *1e12 to get the right units Use the right ptype\n",
    "        self.Mbulge = ComponentMass(M31_COM.data, 3) * 1e12\n",
    "        \n",
    "        # Halo\n",
    "        # **** self.rhalo = set scale length from HW5 (no units)\n",
    "        self.rhalo = 62.0\n",
    "        \n",
    "        # **** self.Mhalo set with ComponentMass function. Remember to *1e12 to get the right units. Use the right ptype\n",
    "        self.Mhalo = ComponentMass(M31_COM.data, 1) * 1e12\n",
    "    \n",
    "    \n",
    "    def HernquistAccel(self, M, r_a, r_vect): # it is easiest if you take as an input the position VECTOR \n",
    "        \"\"\" \n",
    "        Calculate the gravitational acceleration induced by a Hernquist profile\n",
    "        \n",
    "        :param M: total halo or bulge mass\n",
    "        :param r_a: the corresponding scale length\n",
    "        :param r_vect: the position vector between the galaxies\n",
    "        \"\"\"\n",
    "        \n",
    "        ### **** Store the magnitude of the position vector\n",
    "        rmag = np.sqrt( np.sum(r_vect**2) )\n",
    "\n",
    "        ### *** Store the Acceleration\n",
    "        Hern =  - self.G * M / (rmag * (r_a + rmag)**2) * r_vect\n",
    "        # NOTE: we want an acceleration VECTOR so you need to make sure that in the Hernquist equation you \n",
    "        # use  -G*M/(rmag *(ra + rmag)**2) * r --> where the last r is a VECTOR \n",
    "        \n",
    "        return Hern\n",
    "    \n",
    "    \n",
    "    \n",
    "    def MiyamotoNagaiAccel(self, M, rd, r_vect):# it is easiest if you take as an input a position VECTOR  r \n",
    "        \"\"\"\n",
    "        Calculate the gravitational acceleration induced by a Miyamoto-Nagai 1975 profile.\n",
    "        \n",
    "        :param M: total disk mass\n",
    "        :param r_a: the disk scale length\n",
    "        :param r_vect: the position vector between the galaxies\n",
    "        :return: 3D acceleration vector\n",
    "        \"\"\"\n",
    "        \n",
    "        ### Acceleration **** follow the formula in the HW instructions\n",
    "        # AGAIN note that we want a VECTOR to be returned  (see Hernquist instructions)\n",
    "        # this can be tricky given that the z component is different than in the x or y directions. \n",
    "        # we can deal with this by multiplying the whole thing by an extra array that accounts for the \n",
    "        # differences in the z direction:\n",
    "        #  multiply the whle thing by :   np.array([1,1,ZSTUFF]) \n",
    "        # where ZSTUFF are the terms associated with the z direction\n",
    "        \n",
    "        zd = rd / 5.0\n",
    "        Rsq = r_vect[0]**2 + r_vect[1]**2\n",
    "        z_offset = np.sqrt(r_vect[2]**2 + zd**2)\n",
    "        B = rd + z_offset\n",
    "        C = np.array([1, 1, B / z_offset])\n",
    "        \n",
    "        acc = - self.G * M * r_vect * C / (Rsq + B**2)**(1.5)\n",
    "       \n",
    "        return acc\n",
    "        # the np.array allows for a different value for the z component of the acceleration\n",
    "     \n",
    "    \n",
    "    def M31Accel(self, r_vect): # input should include the position vector, r\n",
    "        \"\"\"\n",
    "        Sum of acceleration vectors from each galaxy component\n",
    "        \n",
    "        :param r_vect:\n",
    "        :return: total acceleration\n",
    "        \"\"\"\n",
    "\n",
    "        ### Call the previous functions for the halo, bulge and disk\n",
    "        # **** these functions will take as inputs variable we defined in the initialization of the class like \n",
    "        # self.rdisk etc. \n",
    "        \n",
    "        bulge_acc = self.HernquistAccel(self.Mbulge, self.rbulge, r_vect)\n",
    "        halo_acc = self.HernquistAccel(self.Mhalo, self.rhalo, r_vect)\n",
    "        disk_acc = self.MiyamotoNagaiAccel(self.Mdisk, self.rdisk, r_vect)\n",
    "        \n",
    "        \n",
    "            \n",
    "            # return the SUM of the output of the acceleration functions - this will return a VECTOR \n",
    "        return bulge_acc + halo_acc + disk_acc\n",
    "    \n",
    "    \n",
    "    \n",
    "    def LeapFrog(self, r_old, v_old, dt): # take as input r and v, which are VECTORS. Assume it is ONE vector at a time\n",
    "        \"\"\"\n",
    "        LeapFrog implementation to solve the equations of motion and compute the future orbit of M33.\n",
    "        \n",
    "        :param r_old: position vector to update \n",
    "        :param v_old: velocity vector to update\n",
    "        :param dt: time step used for integration\n",
    "        :return: r_new, v_new ; new position and velcoity vectors\n",
    "        \"\"\"\n",
    "        \n",
    "        # predict the position at the next half timestep\n",
    "        rhalf = r_old + v_old * dt / 2\n",
    "        \n",
    "        # predict the final velocity at the next timestep using the acceleration field at the rhalf position \n",
    "        acc_half = self.M31Accel(rhalf)\n",
    "        vnew = v_old + acc_half * dt\n",
    "        \n",
    "        # predict the final position using the average of the current velocity and the final velocity\n",
    "        # this accounts for the fact that we don't know how the speed changes from the current timestep to the \n",
    "        # next, so we approximate it using the average expected speed over the time interval dt. \n",
    "        rnew = rhalf + vnew * dt / 2\n",
    "        \n",
    "        return rnew, vnew\n",
    "    \n",
    "    \n",
    "    \n",
    "    def OrbitIntegration(self, t0, dt, tmax):\n",
    "        \"\"\"\n",
    "        Orbit LeapFrog integrator for our galaxy.\n",
    "        The orbit will be integrated and all data will be saved to self.filename.\n",
    "        \n",
    "        :param t0: initial time to start integrator at\n",
    "        :param dt: timestep for integrator\n",
    "        :param tmax: maximum time to integrate to\n",
    "        \"\"\"\n",
    "        \n",
    "\n",
    "        # initialize the time to the input starting time\n",
    "        t = t0\n",
    "        \n",
    "        # initialize an empty array of size :  rows int(tmax/dt)+2  , columns 7\n",
    "        steps = int(round(tmax/dt)) + 1\n",
    "        orbit = np.zeros((steps, 7))\n",
    "        time = t0 + np.arange(steps) * dt\n",
    "        \n",
    "        # initialize the first row of the orbit\n",
    "        orbit[0] = t0, *self.r0, *self.v0\n",
    "        orbit[:, 0] = time\n",
    "        \n",
    "        # initialize a counter for the orbit.  \n",
    "        i = 1 # since we already set the 0th values, we start the counter at 1\n",
    "        \n",
    "        # start the integration (advancing in time steps and computing LeapFrog at each step)\n",
    "        for i in range(1, steps):  # as long as t has not exceeded the maximal time             \n",
    "            # ***** Advance the position and velocity using the LeapFrog scheme\n",
    "            # Store the new position & velocity vectors in the next array row\n",
    "            orbit[i, 1:4], orbit[i, 4:7] = self.LeapFrog(orbit[i-1, 1:4], orbit[i-1, 4:7], dt)\n",
    "        \n",
    "        # write the data to a file\n",
    "        np.savetxt(self.filename, orbit, fmt = \"%11.3f\"*7, comments='#', \n",
    "                   header=\"{:>10s}{:>11s}{:>11s}{:>11s}{:>11s}{:>11s}{:>11s}\"\\\n",
    "                   .format('t', 'x', 'y', 'z', 'vx', 'vy', 'vz'))\n",
    "        \n",
    "        # there is no return function"
   ]
  },
  {
   "cell_type": "markdown",
   "metadata": {},
   "source": [
    "Run the analytic integration of the orbit, and load the saved file"
   ]
  },
  {
   "cell_type": "code",
   "execution_count": 117,
   "metadata": {},
   "outputs": [],
   "source": [
    "m33_orbit = M33AnalyticOrbit('m33_analytic_orbit.txt')\n",
    "m33_orbit.OrbitIntegration(0, 0.01, 10)\n",
    "M33_analytic_orbit = np.genfromtxt('../../Data/m33_analytic_orbit.txt')\n",
    "\n",
    "time_an = M33_analytic_orbit[:, 0]"
   ]
  },
  {
   "cell_type": "markdown",
   "metadata": {},
   "source": [
    "Bring up the simulation orbits we created for Homework6"
   ]
  },
  {
   "cell_type": "code",
   "execution_count": 118,
   "metadata": {},
   "outputs": [],
   "source": [
    "# Read in the data files for the orbits of each galaxy that you just created\n",
    "# headers:  t, x, y, z, vx, vy, vz\n",
    "# using np.genfromtxt\n",
    "M31_data = np.genfromtxt('../../Data/Orbit_M31.txt')\n",
    "M33_data = np.genfromtxt('../../Data/Orbit_M33.txt')\n",
    "\n",
    "time_sim = M31_data[:, 0]/1000"
   ]
  },
  {
   "cell_type": "code",
   "execution_count": 119,
   "metadata": {},
   "outputs": [],
   "source": [
    "# function to compute the magnitude of the difference between two vectors \n",
    "# You can use this function to return both the relative position and relative velocity for two \n",
    "# galaxies over the entire orbit\n",
    "\n",
    "def VectorDiff(a, b):\n",
    "    c = a - b\n",
    "    return np.sqrt((c * c).sum(axis=1))"
   ]
  },
  {
   "cell_type": "code",
   "execution_count": 120,
   "metadata": {},
   "outputs": [],
   "source": [
    "# Determine the magnitude of the relative position and velocities \n",
    "\n",
    "# M33 - M31 analytic relative position and velocities \n",
    "M33M31_an = np.sqrt((M33_analytic_orbit[:, 1:4]**2).sum(axis=1))\n",
    "VM33M31_an = np.sqrt((M33_analytic_orbit[:, 4:7]**2).sum(axis=1))\n",
    "\n",
    "# of M33 and M31 simulation relative position and velocities \n",
    "M33M31_sim = VectorDiff(M33_data[:, 1:4], M31_data[:, 1:4])\n",
    "VM33M31_sim = VectorDiff(M33_data[:, 4:8], M31_data[:, 4:8])"
   ]
  },
  {
   "cell_type": "code",
   "execution_count": 126,
   "metadata": {},
   "outputs": [
    {
     "data": {
      "image/png": "[encoded data removed]",
      "text/plain": [
       "<Figure size 720x432 with 1 Axes>"
      ]
     },
     "metadata": {
      "needs_background": "light"
     },
     "output_type": "display_data"
    }
   ],
   "source": [
    "# Plot the Orbit of the galaxies \n",
    "#################################\n",
    "\n",
    "# Setup canvas\n",
    "fig, ax = plt.subplots(figsize=(10, 6))\n",
    "\n",
    "# M33 - M31 analytic positional separation\n",
    "ax.plot(time_an, M33M31_an, linewidth=3, ls='--', label='M33-M31 Analytical')\n",
    "\n",
    "# M33 - M31 simulation data positional separation\n",
    "ax.plot(time_sim, M33M31_sim, linewidth=3, ls=':', label='M33-M31 Simulation')\n",
    "\n",
    "# Add axis labels\n",
    "ax.set_xlabel('Time (Gyr)', fontsize=22)\n",
    "ax.set_ylabel('Separation (kpc)', fontsize=22)\n",
    "\n",
    "# add a legend \n",
    "ax.legend(loc='upper right',fontsize='x-large')\n",
    "\n",
    "# add a title\n",
    "ax.set_title('M33-M31 Positional Separation', fontsize=28)\n",
    "\n",
    "plt.tight_layout()"
   ]
  },
  {
   "cell_type": "code",
   "execution_count": null,
   "metadata": {},
   "outputs": [],
   "source": []
  }
 ],
 "metadata": {
  "kernelspec": {
   "display_name": "Python 3",
   "language": "python",
   "name": "python3"
  },
  "language_info": {
   "codemirror_mode": {
    "name": "ipython",
    "version": 3
   },
   "file_extension": ".py",
   "mimetype": "text/x-python",
   "name": "python",
   "nbconvert_exporter": "python",
   "pygments_lexer": "ipython3",
   "version": "3.7.6"
  },
  "varInspector": {
   "cols": {
    "lenName": 16,
    "lenType": 16,
    "lenVar": 40
   },
   "kernels_config": {
    "python": {
     "delete_cmd_postfix": "",
     "delete_cmd_prefix": "del ",
     "library": "var_list.py",
     "varRefreshCmd": "print(var_dic_list())"
    },
    "r": {
     "delete_cmd_postfix": ") ",
     "delete_cmd_prefix": "rm(",
     "library": "var_list.r",
     "varRefreshCmd": "cat(var_dic_list()) "
    }
   },
   "types_to_exclude": [
    "module",
    "function",
    "builtin_function_or_method",
    "instance",
    "_Feature"
   ],
   "window_display": false
  }
 },
 "nbformat": 4,
 "nbformat_minor": 4
}
