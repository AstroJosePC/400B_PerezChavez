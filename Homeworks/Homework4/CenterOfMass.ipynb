{
 "cells": [
  {
   "cell_type": "code",
   "execution_count": null,
   "metadata": {},
   "outputs": [],
   "source": [
    "# Homework 4\n",
    "# Center of Mass Position and Velocity\n",
    "# Write your name here"
   ]
  },
  {
   "cell_type": "markdown",
   "metadata": {},
   "source": [
    "### Keep in mind this is just a template; you don't need to follow every step and feel free to change anything.\n",
    "### We also strongly encourage you to try to develop your own method to solve the homework."
   ]
  },
  {
   "cell_type": "code",
   "execution_count": 2,
   "metadata": {
    "ExecuteTime": {
     "end_time": "2020-02-04T23:59:21.657237Z",
     "start_time": "2020-02-04T23:59:21.653687Z"
    }
   },
   "outputs": [],
   "source": [
    "# Add path to other HW folders\n",
    "# Incites modular design / No need to copy ReadFile into Homework3 folder\n",
    "import sys\n",
    "sys.path.append(\"../\")\n",
    "\n",
    "# Import modules\n",
    "import numpy as np\n",
    "import astropy.units as u\n",
    "import astropy.table as tbl\n",
    "from Homework2.ReadFile import Read"
   ]
  },
  {
   "cell_type": "code",
   "execution_count": 4,
   "metadata": {},
   "outputs": [],
   "source": [
    "filename = '../../SampleData/MW_000.txt'\n",
    "ptype = 1\n",
    "time, total, data = Read(filename)\n",
    "\n",
    "index = np.where(data['type'] == ptype)"
   ]
  },
  {
   "cell_type": "code",
   "execution_count": null,
   "metadata": {},
   "outputs": [],
   "source": []
  },
  {
   "cell_type": "code",
   "execution_count": 14,
   "metadata": {},
   "outputs": [
    {
     "data": {
      "text/plain": [
       "array([(-2.51725e+00,  19.1588 ,  5.28528e+01),\n",
       "       (-2.86601e+02, 298.455  ,  3.91692e+02),\n",
       "       (-5.05945e-01, -28.6337 , -8.39565e+01), ...,\n",
       "       (-3.29432e+00,   3.36725,  1.09023e-01),\n",
       "       ( 2.57806e-01,   5.31409, -6.62670e-01),\n",
       "       (-6.57662e-01,   3.32552, -2.51660e+00)],\n",
       "      dtype={'names':['x','y','z'], 'formats':['<f8','<f8','<f8'], 'offsets':[16,24,32], 'itemsize':64})"
      ]
     },
     "execution_count": 14,
     "metadata": {},
     "output_type": "execute_result"
    }
   ],
   "source": []
  },
  {
   "cell_type": "code",
   "execution_count": 191,
   "metadata": {
    "ExecuteTime": {
     "end_time": "2020-02-04T23:59:24.003059Z",
     "start_time": "2020-02-04T23:59:23.979271Z"
    }
   },
   "outputs": [],
   "source": [
    "class CenterOfMass:\n",
    "# Class to define COM position and velocity properties of a given galaxy \n",
    "# and simulation snapshot\n",
    "    \n",
    "    \n",
    "    def __init__(self, filename, ptype):\n",
    "        # Initialize the instance of this Class with the following properties:\n",
    "    \n",
    "        # Read data in the given file using Read\n",
    "        self.time, self.total, self.data = Read(filename)                                                                                            \n",
    "\n",
    "        # Create an array to store indexes of particles of desired Ptype\n",
    "        self.index = np.where(self.data['type'] == ptype)\n",
    "\n",
    "        # store the mass, positions, velocities of only the particles of the given type\n",
    "        # the following only gives the example of storing the mass\n",
    "        self.m = self.data['m'][self.index] \n",
    "        self.x = self.data['x'][self.index]\n",
    "        self.y = self.data['y'][self.index]\n",
    "        self.z = self.data['z'][self.index]\n",
    "        self.r = np.sqrt(self.x**2 + self.y**2 + self.z**2)\n",
    "        self.vx = self.data['vx'][self.index]\n",
    "        self.vy = self.data['vy'][self.index]\n",
    "        self.vz = self.data['vz'][self.index]\n",
    "\n",
    "\n",
    "    def COMdefine(self,x,y,z,m):\n",
    "    # Function to compute the center of mass position or velocity generically\n",
    "    # input: array (a,b,c) of positions or velocities and the mass\n",
    "    # returns: 3 floats  (the center of mass coordinates)\n",
    "\n",
    "        # write your own code to compute the generic COM using Eq. 1 in the homework instructions\n",
    "        # xcomponent Center of mass\n",
    "        Xcom = ( x * m ).sum()/m.sum()\n",
    "        # ycomponent Center of mass\n",
    "        Ycom = ( y * m ).sum()/m.sum()\n",
    "        # zcomponent Center of mass\n",
    "        Zcom = ( z * m ).sum()/m.sum()\n",
    "        return Xcom, Ycom, Zcom\n",
    "    \n",
    "    \n",
    "    def COM_P(self, delta):\n",
    "        # Function to specifically return the center of mass position and velocity                                         \n",
    "        # input:                                                                                                           \n",
    "        #        particle type (1,2,3)                                                                                     \n",
    "        #        delta (tolerance)                                                                                         \n",
    "        # returns: One vector, with rows indicating:                                                                                                                                                                            \n",
    "        #       3D coordinates of the center of mass position (kpc)                                                             \n",
    "\n",
    "        # Center of Mass Position                                                                                      \n",
    "        ###########################                                                                                    \n",
    "\n",
    "        # Try a first guess at the COM position by calling COMdefine                                                   \n",
    "        XCOM, YCOM, ZCOM = self.COMdefine(self.x, self.y, self.z, self.m)\n",
    "        # compute the magnitude of the COM position vector.\n",
    "        # write your own code below\n",
    "        RCOM = np.sqrt( XCOM**2 + YCOM**2 + ZCOM**2 )\n",
    "        print(f'First RCOM guess\\t =', RCOM)\n",
    "\n",
    "        # iterative process to determine the center of mass                                                            \n",
    "\n",
    "        # change reference frame to COM frame                                                                          \n",
    "        # compute the difference between particle coordinates                                                          \n",
    "        # and the first guess at COM position\n",
    "        # write your own code below\n",
    "        xNew = self.x - XCOM\n",
    "        yNew = self.y - YCOM\n",
    "        zNew = self.z - ZCOM\n",
    "        RNEW = np.sqrt(xNew**2 + yNew**2 + zNew**2)\n",
    "        \n",
    "        # find the max 3D distance of all particles from the guessed COM                                               \n",
    "        # will re-start at half that radius (reduced radius)                                                           \n",
    "        RMAX = max(RNEW)/2.0\n",
    "\n",
    "        # pick an initial value for the change in COM position                                                      \n",
    "        # between the first guess above and the new one computed from half that volume\n",
    "        # it should be larger than the input tolerance (delta) initially\n",
    "        CHANGE = 1000.0\n",
    "\n",
    "        # start iterative process to determine center of mass position                                                 \n",
    "        # delta is the tolerance for the difference in the old COM and the new one.    \n",
    "        \n",
    "        while (CHANGE > delta):\n",
    "            # select all particles within the reduced radius (starting from original x,y,z, m)\n",
    "            # write your own code below (hints, use np.where)\n",
    "            print(f'RMAX\\t= {RMAX}')\n",
    "            \n",
    "            if not np.any(RNEW < RMAX):\n",
    "                print(f'\\nThere are no particles within RMAX {RMAX:.3f}')\n",
    "                print(f'RNEW: Min={RNEW.min():.2f}\\tMax={RNEW.max():.2f}\\tRMEAN={RNEW.mean():.2f}')\n",
    "                raise ValueError()\n",
    "            \n",
    "            index2 = np.where( RNEW < RMAX)\n",
    "            x2 = xNew[index2]\n",
    "            y2 = yNew[index2]\n",
    "            z2 = zNew[index2]\n",
    "            m2 = self.m[index2]\n",
    "\n",
    "            # Refined COM position:                                                                                    \n",
    "            # compute the center of mass position using                                                                \n",
    "            # the particles in the reduced radius\n",
    "            # write your own code below\n",
    "            XCOM2, YCOM2, ZCOM2 = self.COMdefine(x2, y2, z2, m2)\n",
    "            # compute the new 3D COM position\n",
    "            # write your own code below\n",
    "            RCOM2 = np.sqrt( XCOM2**2 + YCOM2**2 + ZCOM2**2 )\n",
    "            print('iterative RCOM\\t =', RCOM2)\n",
    "            # determine the difference between the previous center of mass position                                    \n",
    "            # and the new one.\n",
    "            CHANGE = np.abs(RCOM - RCOM2)\n",
    "            # print(XCOM2, YCOM2, ZCOM2, RCOM2)\n",
    "            # uncomment the following line if you wnat to check this                                                                                               \n",
    "            print (\"CHANGE = \", CHANGE)                                                                                     \n",
    "\n",
    "            # Before loop continues, reset : RMAX, particle separations and COM                                        \n",
    "\n",
    "            # reduce the volume by a factor of 2 again                                                                 \n",
    "            RMAX = RMAX/2.0\n",
    "            # check this.                                                                                              \n",
    "            print (\"maxR\", RMAX)                                                                                      \n",
    "\n",
    "            # Change the frame of reference to the newly computed COM.                                                 \n",
    "            # subtract the new COM\n",
    "            # write your own code below\n",
    "            xNew = self.x - XCOM2\n",
    "            yNew = self.y - YCOM2\n",
    "            zNew = self.z - ZCOM2\n",
    "            \n",
    "            # xNew = xNew - XCOM2\n",
    "            # yNew = yNew - YCOM2\n",
    "            # zNew = zNew - ZCOM2\n",
    "            RNEW = np.sqrt(xNew**2 + yNew**2 + zNew**2)\n",
    "\n",
    "            # set the center of mass positions to the refined values                                                   \n",
    "            XCOM = XCOM2\n",
    "            YCOM = YCOM2\n",
    "            ZCOM = ZCOM2\n",
    "            # RCOM = np.sqrt( XCOM**2 + YCOM**2 + ZCOM**2 )\n",
    "            RCOM = RCOM2\n",
    "\n",
    "        # create a vector to store the COM position                                                                                                                                                       \n",
    "        COMP = XCOM, YCOM, ZCOM\n",
    "\n",
    "        # set the correct units usint astropy and round all values\n",
    "        # and then return the COM positon vector\n",
    "        # write your own code below\n",
    "        # return [XCOM, YCOM, ZCOM]\n",
    "        return np.round(COMP, 2) * u.kpc\n",
    "        \n",
    "\n",
    "    def COM_V(self, COMX,COMY,COMZ):\n",
    "        # Center of Mass velocity\n",
    "        # input: X, Y, Z positions of the COM\n",
    "        # returns 3D Vector of COM Velocities\n",
    "        \n",
    "        # the max distance from the center that we will use to determine the center of mass velocity                   \n",
    "        RVMAX = 15.0 * u.kpc\n",
    "\n",
    "        # determine the position of all particles relative to the center of mass position\n",
    "        # write your own code below\n",
    "        xV = self.x * u.kpc - COMX\n",
    "        yV = self.y * u.kpc - COMY\n",
    "        zV = self.z * u.kpc - COMZ\n",
    "        RV = np.sqrt(xV**2 + yV**2 + zV**2)\n",
    "        \n",
    "        # determine the index for those particles within the max radius\n",
    "        # write your own code below\n",
    "        indexV = RV < RVMAX\n",
    "        \n",
    "        if not np.any(indexV):\n",
    "            print(f'\\nThere are no particles within RVMAX {RVMAX:.3f}')\n",
    "            print(f'RV: Min={RV.min():.2f}\\tMax={RV.max():.2f}\\tRMEAN={RV.mean():.2f}')\n",
    "            raise ValueError()\n",
    "\n",
    "        \n",
    "        # determine the velocity and mass of those particles within the mas radius\n",
    "        # write your own code below\n",
    "        vxnew = self.vx[indexV]\n",
    "        vynew = self.vy[indexV]\n",
    "        vznew = self.vz[indexV]\n",
    "        mnew  = self.m[indexV]\n",
    "        \n",
    "        # compute the center of mass velocity using those particles\n",
    "        # write your own code below\n",
    "        VXCOM, VYCOM, VZCOM = self.COMdefine(vxnew, vynew, vznew, mnew)\n",
    "\n",
    "        # create a vector to store the COM velocity\n",
    "        # set the correct units usint astropy\n",
    "        # round all values\n",
    "        # write your own code below\n",
    "        COMV = np.round([VXCOM, VYCOM, VZCOM], 2) * u.km/u.s\n",
    "\n",
    "        # return the COM vector                                                                                        \n",
    "        return COMV"
   ]
  },
  {
   "cell_type": "code",
   "execution_count": 192,
   "metadata": {},
   "outputs": [],
   "source": [
    "# These are the 'testing' locations of the galaxies data\n",
    "mw_path = '../../SampleData/MW_000.txt'\n",
    "m31_path = '../../SampleData/M31_000.txt'\n",
    "m33_path = '../../SampleData/M33_000.txt'"
   ]
  },
  {
   "cell_type": "code",
   "execution_count": 193,
   "metadata": {
    "ExecuteTime": {
     "end_time": "2020-02-04T23:59:30.160978Z",
     "start_time": "2020-02-04T23:59:26.220455Z"
    }
   },
   "outputs": [],
   "source": [
    "# Create a Center of mass object for the MW, M31 and M33\n",
    "# below is an example of using the class for MW\n",
    "MWCOM  = CenterOfMass(mw_path,  2)\n",
    "M31COM = CenterOfMass(m31_path, 2)\n",
    "M33COM = CenterOfMass(m33_path, 2)"
   ]
  },
  {
   "cell_type": "code",
   "execution_count": 194,
   "metadata": {
    "ExecuteTime": {
     "end_time": "2020-02-04T23:59:30.820428Z",
     "start_time": "2020-02-04T23:59:30.761163Z"
    }
   },
   "outputs": [
    {
     "name": "stdout",
     "output_type": "stream",
     "text": [
      "First RCOM guess\t = 2.9501930277320705\n",
      "RMAX\t= 22.040962666796222\n",
      "iterative RCOM\t = 0.3942784931382934\n",
      "CHANGE =  2.5559145345937773\n",
      "maxR 11.020481333398111\n",
      "RMAX\t= 11.020481333398111\n",
      "iterative RCOM\t = 2.731641756135893\n",
      "CHANGE =  2.3373632629976\n",
      "maxR 5.5102406666990555\n",
      "RMAX\t= 5.5102406666990555\n",
      "iterative RCOM\t = 1.0019509966929854\n",
      "CHANGE =  1.7296907594429078\n",
      "maxR 2.7551203333495278\n",
      "RMAX\t= 2.7551203333495278\n",
      "iterative RCOM\t = 1.6770718289446975\n",
      "CHANGE =  0.6751208322517122\n",
      "maxR 1.3775601666747639\n",
      "RMAX\t= 1.3775601666747639\n",
      "iterative RCOM\t = 0.288197662853163\n",
      "CHANGE =  1.3888741660915345\n",
      "maxR 0.6887800833373819\n",
      "RMAX\t= 0.6887800833373819\n",
      "iterative RCOM\t = 0.18107233022934432\n",
      "CHANGE =  0.10712533262381868\n",
      "maxR 0.34439004166869097\n",
      "RMAX\t= 0.34439004166869097\n",
      "iterative RCOM\t = 0.17364990669127478\n",
      "CHANGE =  0.007422423538069545\n",
      "maxR 0.17219502083434549\n"
     ]
    },
    {
     "data": {
      "text/latex": [
       "$[-0.11,~0.13,~-0.02] \\; \\mathrm{kpc}$"
      ],
      "text/plain": [
       "<Quantity [-0.11,  0.13, -0.02] kpc>"
      ]
     },
     "metadata": {},
     "output_type": "display_data"
    },
    {
     "data": {
      "text/latex": [
       "$[-6.54,~1.57,~-1.25] \\; \\mathrm{\\frac{km}{s}}$"
      ],
      "text/plain": [
       "<Quantity [-6.54,  1.57, -1.25] km / s>"
      ]
     },
     "metadata": {},
     "output_type": "display_data"
    }
   ],
   "source": [
    "# below gives you an example of calling the class's functions\n",
    "# MW:   store the position and velocity COM\n",
    "MW_COMP = MWCOM.COM_P(0.1)\n",
    "MW_COMV = MWCOM.COM_V(MW_COMP[0], MW_COMP[1], MW_COMP[2])\n",
    "display(MW_COMP, MW_COMV)"
   ]
  },
  {
   "cell_type": "code",
   "execution_count": 195,
   "metadata": {},
   "outputs": [
    {
     "name": "stdout",
     "output_type": "stream",
     "text": [
      "First RCOM guess\t = 773.0189990729881\n",
      "RMAX\t= 33.36459887755716\n",
      "iterative RCOM\t = 0.07153437957891283\n",
      "CHANGE =  772.9474646934092\n",
      "maxR 16.68229943877858\n",
      "RMAX\t= 16.68229943877858\n",
      "\n",
      "There are no particles within RMAX 16.682\n",
      "RNEW: Min=719.35\tMax=830.42\tRMEAN=773.13\n"
     ]
    },
    {
     "ename": "ValueError",
     "evalue": "",
     "output_type": "error",
     "traceback": [
      "\u001b[0;31m---------------------------------------------------------------------------\u001b[0m",
      "\u001b[0;31mValueError\u001b[0m                                Traceback (most recent call last)",
      "\u001b[0;32m<ipython-input-195-4dd0709e7606>\u001b[0m in \u001b[0;36m<module>\u001b[0;34m\u001b[0m\n\u001b[0;32m----> 1\u001b[0;31m \u001b[0mM31_COMP\u001b[0m \u001b[0;34m=\u001b[0m \u001b[0mM31COM\u001b[0m\u001b[0;34m.\u001b[0m\u001b[0mCOM_P\u001b[0m\u001b[0;34m(\u001b[0m\u001b[0;36m0.1\u001b[0m\u001b[0;34m)\u001b[0m\u001b[0;34m\u001b[0m\u001b[0;34m\u001b[0m\u001b[0m\n\u001b[0m\u001b[1;32m      2\u001b[0m \u001b[0mM31_COMV\u001b[0m \u001b[0;34m=\u001b[0m \u001b[0mM31COM\u001b[0m\u001b[0;34m.\u001b[0m\u001b[0mCOM_V\u001b[0m\u001b[0;34m(\u001b[0m\u001b[0mM31_COMP\u001b[0m\u001b[0;34m[\u001b[0m\u001b[0;36m0\u001b[0m\u001b[0;34m]\u001b[0m\u001b[0;34m,\u001b[0m \u001b[0mM31_COMP\u001b[0m\u001b[0;34m[\u001b[0m\u001b[0;36m1\u001b[0m\u001b[0;34m]\u001b[0m\u001b[0;34m,\u001b[0m \u001b[0mM31_COMP\u001b[0m\u001b[0;34m[\u001b[0m\u001b[0;36m2\u001b[0m\u001b[0;34m]\u001b[0m\u001b[0;34m)\u001b[0m\u001b[0;34m\u001b[0m\u001b[0;34m\u001b[0m\u001b[0m\n\u001b[1;32m      3\u001b[0m \u001b[0mdisplay\u001b[0m\u001b[0;34m(\u001b[0m\u001b[0mM31_COMP\u001b[0m\u001b[0;34m,\u001b[0m \u001b[0mM31_COMV\u001b[0m\u001b[0;34m)\u001b[0m\u001b[0;34m\u001b[0m\u001b[0;34m\u001b[0m\u001b[0m\n",
      "\u001b[0;32m<ipython-input-191-ea2269d76519>\u001b[0m in \u001b[0;36mCOM_P\u001b[0;34m(self, delta)\u001b[0m\n\u001b[1;32m     89\u001b[0m                 \u001b[0mprint\u001b[0m\u001b[0;34m(\u001b[0m\u001b[0;34mf'\\nThere are no particles within RMAX {RMAX:.3f}'\u001b[0m\u001b[0;34m)\u001b[0m\u001b[0;34m\u001b[0m\u001b[0;34m\u001b[0m\u001b[0m\n\u001b[1;32m     90\u001b[0m                 \u001b[0mprint\u001b[0m\u001b[0;34m(\u001b[0m\u001b[0;34mf'RNEW: Min={RNEW.min():.2f}\\tMax={RNEW.max():.2f}\\tRMEAN={RNEW.mean():.2f}'\u001b[0m\u001b[0;34m)\u001b[0m\u001b[0;34m\u001b[0m\u001b[0;34m\u001b[0m\u001b[0m\n\u001b[0;32m---> 91\u001b[0;31m                 \u001b[0;32mraise\u001b[0m \u001b[0mValueError\u001b[0m\u001b[0;34m(\u001b[0m\u001b[0;34m)\u001b[0m\u001b[0;34m\u001b[0m\u001b[0;34m\u001b[0m\u001b[0m\n\u001b[0m\u001b[1;32m     92\u001b[0m \u001b[0;34m\u001b[0m\u001b[0m\n\u001b[1;32m     93\u001b[0m             \u001b[0mindex2\u001b[0m \u001b[0;34m=\u001b[0m \u001b[0mnp\u001b[0m\u001b[0;34m.\u001b[0m\u001b[0mwhere\u001b[0m\u001b[0;34m(\u001b[0m \u001b[0mRNEW\u001b[0m \u001b[0;34m<\u001b[0m \u001b[0mRMAX\u001b[0m\u001b[0;34m)\u001b[0m\u001b[0;34m\u001b[0m\u001b[0;34m\u001b[0m\u001b[0m\n",
      "\u001b[0;31mValueError\u001b[0m: "
     ]
    }
   ],
   "source": [
    "M31_COMP = M31COM.COM_P(0.1)\n",
    "M31_COMV = M31COM.COM_V(M31_COMP[0], M31_COMP[1], M31_COMP[2])\n",
    "display(M31_COMP, M31_COMV)"
   ]
  },
  {
   "cell_type": "code",
   "execution_count": null,
   "metadata": {},
   "outputs": [],
   "source": [
    "M33_COMP = M33COM.COM_P(0.1)\n",
    "M33_COMV = M33COM.COM_V(M33_COMP[0], M33_COMP[1], M33_COMP[2])\n",
    "display(M33_COMP, M33_COMV)"
   ]
  },
  {
   "cell_type": "code",
   "execution_count": null,
   "metadata": {},
   "outputs": [],
   "source": []
  }
 ],
 "metadata": {
  "kernelspec": {
   "display_name": "Python 3",
   "language": "python",
   "name": "python3"
  },
  "language_info": {
   "codemirror_mode": {
    "name": "ipython",
    "version": 3
   },
   "file_extension": ".py",
   "mimetype": "text/x-python",
   "name": "python",
   "nbconvert_exporter": "python",
   "pygments_lexer": "ipython3",
   "version": "3.7.6"
  },
  "varInspector": {
   "cols": {
    "lenName": 16,
    "lenType": 16,
    "lenVar": 40
   },
   "kernels_config": {
    "python": {
     "delete_cmd_postfix": "",
     "delete_cmd_prefix": "del ",
     "library": "var_list.py",
     "varRefreshCmd": "print(var_dic_list())"
    },
    "r": {
     "delete_cmd_postfix": ") ",
     "delete_cmd_prefix": "rm(",
     "library": "var_list.r",
     "varRefreshCmd": "cat(var_dic_list()) "
    }
   },
   "types_to_exclude": [
    "module",
    "function",
    "builtin_function_or_method",
    "instance",
    "_Feature"
   ],
   "window_display": false
  }
 },
 "nbformat": 4,
 "nbformat_minor": 4
}
